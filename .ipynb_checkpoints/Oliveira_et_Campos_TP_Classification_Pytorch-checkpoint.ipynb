{
 "cells": [
  {
   "cell_type": "markdown",
   "metadata": {},
   "source": [
    "# Text classification with Pytorch"
   ]
  },
  {
   "cell_type": "markdown",
   "metadata": {},
   "source": [
    "The goal of this TP is double: an introduction to using Pytorch for treating textual data, and implementing neural classification models that we can apply to IMDB data - and then compare to models implemented in the previous TPs. "
   ]
  },
  {
   "cell_type": "code",
   "execution_count": 1,
   "metadata": {},
   "outputs": [],
   "source": [
    "import torch\n",
    "import torch.nn as nn"
   ]
  },
  {
   "cell_type": "code",
   "execution_count": 2,
   "metadata": {},
   "outputs": [],
   "source": [
    "if torch.cuda.is_available():\n",
    "    device = 'cuda'\n",
    "else:\n",
    "    device = 'cpu'"
   ]
  },
  {
   "cell_type": "code",
   "execution_count": 3,
   "metadata": {},
   "outputs": [
    {
     "data": {
      "text/plain": [
       "'cuda'"
      ]
     },
     "execution_count": 3,
     "metadata": {},
     "output_type": "execute_result"
    }
   ],
   "source": [
    "device"
   ]
  },
  {
   "cell_type": "markdown",
   "metadata": {},
   "source": [
    "### A (very small) introduction to pytorch"
   ]
  },
  {
   "cell_type": "markdown",
   "metadata": {},
   "source": [
    "Pytorch Tensors are very similar to Numpy arrays, with the added benefit of being usable on GPU. For a short tutorial on various methods to create tensors of particular types, see [this link](https://pytorch.org/tutorials/beginner/blitz/tensor_tutorial.html#sphx-glr-beginner-blitz-tensor-tutorial-py).\n",
    "The important things to note are that Tensors can be created empty, from lists, and it is very easy to convert a numpy array into a pytorch tensor, and inversely."
   ]
  },
  {
   "cell_type": "code",
   "execution_count": 4,
   "metadata": {},
   "outputs": [
    {
     "name": "stdout",
     "output_type": "stream",
     "text": [
      "tensor([7310589492923883808, 8232872632655177063, 2314885530451080039,\n",
      "         755888360214391163, 8461244959895330848])\n",
      "tensor([5])\n"
     ]
    }
   ],
   "source": [
    "a = torch.LongTensor(5)\n",
    "b = torch.LongTensor([5])\n",
    "\n",
    "print(a)\n",
    "print(b)"
   ]
  },
  {
   "cell_type": "code",
   "execution_count": 5,
   "metadata": {},
   "outputs": [
    {
     "name": "stdout",
     "output_type": "stream",
     "text": [
      "tensor([5.])\n"
     ]
    }
   ],
   "source": [
    "a = torch.FloatTensor([2])\n",
    "b = torch.FloatTensor([3])\n",
    "\n",
    "print(a + b)"
   ]
  },
  {
   "cell_type": "markdown",
   "metadata": {},
   "source": [
    "The main interest in us using Pytorch is the ```autograd``` package. ```torch.Tensor```objects have an attribute ```.requires_grad```; if set as True, it starts to track all operations on it. When you finish your computation, can call ```.backward()``` and all the gradients are computed automatically (and stored in the ```.grad``` attribute).\n",
    "\n",
    "One way to easily cut a tensor from the computational once it is not needed anymore is to use ```.detach()```.\n",
    "More info on automatic differentiation in pytorch on [this link](https://pytorch.org/tutorials/beginner/blitz/autograd_tutorial.html#sphx-glr-beginner-blitz-autograd-tutorial-py)."
   ]
  },
  {
   "cell_type": "code",
   "execution_count": 6,
   "metadata": {},
   "outputs": [
    {
     "name": "stdout",
     "output_type": "stream",
     "text": [
      "tensor(2.)\n",
      "tensor(1.)\n",
      "tensor(1.)\n"
     ]
    }
   ],
   "source": [
    "x = torch.tensor(1., requires_grad=True)\n",
    "w = torch.tensor(2., requires_grad=True)\n",
    "b = torch.tensor(3., requires_grad=True)\n",
    "\n",
    "# Build a computational graph.\n",
    "y = w * x + b    # y = 2 * x + 3\n",
    "\n",
    "# Compute gradients.\n",
    "y.backward()\n",
    "\n",
    "# Print out the gradients.\n",
    "print(x.grad)    # x.grad = 2 \n",
    "print(w.grad)    # w.grad = 1 \n",
    "print(b.grad)    # b.grad = 1 "
   ]
  },
  {
   "cell_type": "code",
   "execution_count": 7,
   "metadata": {},
   "outputs": [
    {
     "name": "stdout",
     "output_type": "stream",
     "text": [
      "weight\n",
      "Parameter containing:\n",
      "tensor([[ 0.0823, -0.1352, -0.2870],\n",
      "        [ 0.4862, -0.4825,  0.0784]], requires_grad=True)\n",
      "bias\n",
      "Parameter containing:\n",
      "tensor([ 0.3617, -0.3638], requires_grad=True)\n",
      "Initial loss:  1.528510570526123\n",
      "dL/dw:  tensor([[ 0.0493, -0.5269, -0.3573],\n",
      "        [ 0.6922, -0.0318,  0.4551]])\n",
      "dL/db:  tensor([ 0.6695, -0.0302])\n"
     ]
    }
   ],
   "source": [
    "x = torch.randn(10, 3)\n",
    "y = torch.randn(10, 2)\n",
    "\n",
    "# Build a fully connected layer.\n",
    "linear = nn.Linear(3, 2)\n",
    "for name, p in linear.named_parameters():\n",
    "    print(name)\n",
    "    print(p)\n",
    "\n",
    "# Build loss function - Mean Square Error\n",
    "criterion = nn.MSELoss()\n",
    "\n",
    "# Forward pass.\n",
    "pred = linear(x)\n",
    "\n",
    "# Compute loss.\n",
    "loss = criterion(pred, y)\n",
    "print('Initial loss: ', loss.item())\n",
    "\n",
    "# Backward pass.\n",
    "loss.backward()\n",
    "\n",
    "# Print out the gradients.\n",
    "print ('dL/dw: ', linear.weight.grad) \n",
    "print ('dL/db: ', linear.bias.grad)"
   ]
  },
  {
   "cell_type": "code",
   "execution_count": 8,
   "metadata": {},
   "outputs": [
    {
     "name": "stdout",
     "output_type": "stream",
     "text": [
      "Loss after one update:  1.513153314590454\n"
     ]
    }
   ],
   "source": [
    "# You can perform gradient descent manually, with an in-place update ...\n",
    "linear.weight.data.sub_(0.01 * linear.weight.grad.data)\n",
    "linear.bias.data.sub_(0.01 * linear.bias.grad.data)\n",
    "\n",
    "# Print out the loss after 1-step gradient descent.\n",
    "pred = linear(x)\n",
    "loss = criterion(pred, y)\n",
    "print('Loss after one update: ', loss.item())"
   ]
  },
  {
   "cell_type": "code",
   "execution_count": 9,
   "metadata": {},
   "outputs": [
    {
     "name": "stdout",
     "output_type": "stream",
     "text": [
      "Loss after two updates:  1.4981272220611572\n"
     ]
    }
   ],
   "source": [
    "# Use the optim package to define an Optimizer that will update the weights of the model.\n",
    "optimizer = torch.optim.SGD(linear.parameters(), lr=0.01)\n",
    "\n",
    "# By default, gradients are accumulated in buffers( i.e, not overwritten) whenever .backward()\n",
    "# is called. Before the backward pass, we need to use the optimizer object to zero all of the\n",
    "# gradients.\n",
    "optimizer.zero_grad()\n",
    "loss.backward()\n",
    "\n",
    "# Calling the step function on an Optimizer makes an update to its parameters\n",
    "optimizer.step()\n",
    "\n",
    "# Print out the loss after the second step of gradient descent.\n",
    "pred = linear(x)\n",
    "loss = criterion(pred, y)\n",
    "print('Loss after two updates: ', loss.item())"
   ]
  },
  {
   "cell_type": "markdown",
   "metadata": {},
   "source": [
    "### Tools for data processing "
   ]
  },
  {
   "cell_type": "markdown",
   "metadata": {},
   "source": [
    "```torch.utils.data.Dataset``` is an abstract class representing a dataset. Your custom dataset should inherit ```Dataset``` and override the following methods:\n",
    "- ```__len__``` so that ```len(dataset)``` returns the size of the dataset.\n",
    "- ```__getitem__``` to support the indexing such that ```dataset[i]``` can be used to get the i-th sample\n",
    "\n",
    "Here is a toy example: "
   ]
  },
  {
   "cell_type": "code",
   "execution_count": 10,
   "metadata": {},
   "outputs": [],
   "source": [
    "toy_corpus = ['I walked down down the boulevard',\n",
    "              'I walked down the avenue',\n",
    "              'I ran down the boulevard',\n",
    "              'I walk down the city',\n",
    "              'I walk down the the avenue',\n",
    "              'I walk through the wall']\n",
    "\n",
    "toy_categories = [0, 0, 1, 0, 0, 0]"
   ]
  },
  {
   "cell_type": "code",
   "execution_count": 11,
   "metadata": {},
   "outputs": [],
   "source": [
    "from torch.utils.data import Dataset, DataLoader\n",
    "\n",
    "class CustomDataset(Dataset):\n",
    "    # A pytorch dataset class for holding data for a text classification task.\n",
    "    def __init__(self, data, categories):\n",
    "        # Upon creating the Dataset object, store the data in an attribute\n",
    "        # Split the text data and labels from each other\n",
    "        self.X, self.Y = [], []\n",
    "        for x, y in zip(data, categories):\n",
    "            # We will propably need to preprocess the data - have it done in a separate method\n",
    "            # We do it here because we might need corpus-wide info to do the preprocessing \n",
    "            # For example, cutting all examples to the same length\n",
    "            self.X.append(self.preprocess(x))\n",
    "            self.Y.append(y)\n",
    "                \n",
    "    # Method allowing you to preprocess data                      \n",
    "    def preprocess(self, text):\n",
    "        text_pp = text.lower().strip()\n",
    "        return text_pp\n",
    "    \n",
    "    # Overriding the method __len__ so that len(CustomDatasetName) returns the number of data samples                     \n",
    "    def __len__(self):\n",
    "        return len(self.Y)\n",
    "   \n",
    "    # Overriding the method __getitem__ so that CustomDatasetName[i] returns the i-th sample of the dataset                      \n",
    "    def __getitem__(self, idx):\n",
    "           return self.X[idx], self.Y[idx]"
   ]
  },
  {
   "cell_type": "code",
   "execution_count": 12,
   "metadata": {},
   "outputs": [],
   "source": [
    "toy_dataset = CustomDataset(toy_corpus, toy_categories)"
   ]
  },
  {
   "cell_type": "code",
   "execution_count": 13,
   "metadata": {},
   "outputs": [
    {
     "name": "stdout",
     "output_type": "stream",
     "text": [
      "6\n",
      "('i walked down down the boulevard', 0)\n",
      "('i walked down the avenue', 0)\n",
      "('i ran down the boulevard', 1)\n",
      "('i walk down the city', 0)\n",
      "('i walk down the the avenue', 0)\n",
      "('i walk through the wall', 0)\n"
     ]
    }
   ],
   "source": [
    "print(len(toy_dataset))\n",
    "for i in range(len(toy_dataset)):\n",
    "    print(toy_dataset[i])"
   ]
  },
  {
   "cell_type": "markdown",
   "metadata": {},
   "source": [
    "```torch.utils.data.DataLoader``` is what we call an iterator, which provides very useful features:\n",
    "- Batching the data\n",
    "- Shuffling the data\n",
    "- Load the data in parallel using multiprocessing workers.\n",
    "and can be created very simply from a ```Dataset```. Continuing on our simple example: "
   ]
  },
  {
   "cell_type": "code",
   "execution_count": 14,
   "metadata": {},
   "outputs": [],
   "source": [
    "toy_dataloader = DataLoader(toy_dataset, batch_size = 2, shuffle = True)"
   ]
  },
  {
   "cell_type": "code",
   "execution_count": 15,
   "metadata": {},
   "outputs": [
    {
     "name": "stdout",
     "output_type": "stream",
     "text": [
      "Epoch:0\n",
      "Batch: ('i ran down the boulevard', 'i walk down the city'); labels: tensor([1, 0])\n",
      "Batch: ('i walked down the avenue', 'i walk through the wall'); labels: tensor([0, 0])\n",
      "Batch: ('i walk down the the avenue', 'i walked down down the boulevard'); labels: tensor([0, 0])\n",
      "Epoch:1\n",
      "Batch: ('i walked down the avenue', 'i ran down the boulevard'); labels: tensor([0, 1])\n",
      "Batch: ('i walked down down the boulevard', 'i walk through the wall'); labels: tensor([0, 0])\n",
      "Batch: ('i walk down the city', 'i walk down the the avenue'); labels: tensor([0, 0])\n",
      "Epoch:2\n",
      "Batch: ('i walk through the wall', 'i walk down the the avenue'); labels: tensor([0, 0])\n",
      "Batch: ('i walk down the city', 'i walked down the avenue'); labels: tensor([0, 0])\n",
      "Batch: ('i ran down the boulevard', 'i walked down down the boulevard'); labels: tensor([1, 0])\n"
     ]
    }
   ],
   "source": [
    "for e in range(3):\n",
    "    print(\"Epoch:\" + str(e))\n",
    "    for x, y in toy_dataloader:\n",
    "        print(\"Batch: \" + str(x) + \"; labels: \" + str(y))  "
   ]
  },
  {
   "cell_type": "markdown",
   "metadata": {},
   "source": [
    "### Data processing of a text dataset\n",
    "\n",
    "Now, we would like to apply what we saw to our case, and **create a specific class** ```TextClassificationDataset``` **inheriting** ```Dataset``` that will:\n",
    "- Create a vocabulary from the data (use what we saw in the previous TP)\n",
    "- Preprocess the data using this vocabulary, adding whatever we need for our pytorch model\n",
    "- Have a ```__getitem__``` method that allows us to use the class with a ```Dataloader``` to easily build batches."
   ]
  },
  {
   "cell_type": "code",
   "execution_count": 16,
   "metadata": {},
   "outputs": [],
   "source": [
    "import os\n",
    "import sys\n",
    "\n",
    "from torch.nn import functional as F\n",
    "import torch\n",
    "import torch.nn as nn\n",
    "\n",
    "import numpy as np\n",
    "import random\n",
    "\n",
    "from nltk import word_tokenize\n",
    "import re\n",
    "from torch.nn.utils.rnn import pad_sequence"
   ]
  },
  {
   "cell_type": "code",
   "execution_count": 17,
   "metadata": {},
   "outputs": [
    {
     "data": {
      "text/plain": [
       "[1, 2, 3, 4, 5, 6, 7, 8, 9]"
      ]
     },
     "execution_count": 17,
     "metadata": {},
     "output_type": "execute_result"
    }
   ],
   "source": [
    "[*range(1, 10)]"
   ]
  },
  {
   "cell_type": "code",
   "execution_count": 18,
   "metadata": {},
   "outputs": [
    {
     "data": {
      "text/plain": [
       "[7, 8, 1, 5, 6, 4]"
      ]
     },
     "execution_count": 18,
     "metadata": {},
     "output_type": "execute_result"
    }
   ],
   "source": [
    "l = [*range(1, 10)]\n",
    "random.sample(l, int(0.7 * len(l)))"
   ]
  },
  {
   "cell_type": "code",
   "execution_count": 19,
   "metadata": {},
   "outputs": [
    {
     "name": "stderr",
     "output_type": "stream",
     "text": [
      "[nltk_data] Downloading package punkt to /home/cadulaschi/nltk_data...\n",
      "[nltk_data]   Package punkt is already up-to-date!\n"
     ]
    },
    {
     "data": {
      "text/plain": [
       "True"
      ]
     },
     "execution_count": 19,
     "metadata": {},
     "output_type": "execute_result"
    }
   ],
   "source": [
    "import nltk\n",
    "nltk.download('punkt')"
   ]
  },
  {
   "cell_type": "markdown",
   "metadata": {},
   "source": [
    "First, we get the filenames and the corresponding categories: "
   ]
  },
  {
   "cell_type": "code",
   "execution_count": 20,
   "metadata": {},
   "outputs": [
    {
     "name": "stdout",
     "output_type": "stream",
     "text": [
      "25000 documents\n"
     ]
    }
   ],
   "source": [
    "from glob import glob\n",
    "filenames_neg = sorted(glob(os.path.join('.', 'data', 'imdb1', 'neg', '*.txt')))\n",
    "filenames_pos = sorted(glob(os.path.join('.', 'data', 'imdb1', 'pos', '*.txt')))\n",
    "filenames = filenames_neg + filenames_pos\n",
    "\n",
    "# The first half of the elements of the list are string of negative reviews, and the second half positive ones\n",
    "# We create the labels, as an array of [1,len(texts)], filled with 1, and change the first half to 0\n",
    "categories = np.ones(len(filenames), dtype=np.int)\n",
    "categories[:len(filenames_neg)] = 0.\n",
    "\n",
    "print(\"%d documents\" % len(filenames))"
   ]
  },
  {
   "cell_type": "markdown",
   "metadata": {},
   "source": [
    "We will need to create a ```TextClassificationDataset``` and a ```Dataloader``` for the training data, the validation data, and the testing data. We need to implement a function that will help us split the data in three, according to proportions we give in input."
   ]
  },
  {
   "cell_type": "code",
   "execution_count": 21,
   "metadata": {},
   "outputs": [],
   "source": [
    "# Create a function allowing you to simply shuffle then split the filenames and categories into the desired\n",
    "# proportions for a training, validation and testing set. \n",
    "def get_splits(x, y, splits):\n",
    "    \"\"\"\n",
    "    The idea is to use an index list as reference:\n",
    "    Indexes = [0 1 2 3 4 5 6 7 8 9]\n",
    "    To shuffle it randomly:\n",
    "    Indexes = [7 1 5 0 2 9 8 6 4 3]\n",
    "    We need 'splits' to contain 2 values. Assuming those are = (0.8, 0.1), we'll have:\n",
    "    Train_indexes = [7 1 5 0 2 9 8 6]\n",
    "    Valid_indexes = [4]\n",
    "    Test_indexes = [3]\n",
    "    \"\"\"\n",
    "    # Create an index list and shuffle it - use the function random.shuffle\n",
    "    # -- A compléter --\n",
    "    indexes = list(range(len(x)))\n",
    "    random.shuffle(indexes)\n",
    "    \n",
    "    # Find the two indexes we'll use to cut the lists from the splits\n",
    "    # -- A compléter -- \n",
    "    train_size = int(splits[0] * len(x))\n",
    "    valid_size = int(splits[1] * len(x))\n",
    "    \n",
    "    # Do the cutting (careful: you can't use a list as index for a list - this only works with tensors)\n",
    "    # (you need to use list comprehensions - or go through numpy)\n",
    "    train_x, train_y = [x[idx] for idx in indexes[:train_size]], [y[idx] for idx in indexes[:train_size]]# A compléter\n",
    "    valid_x, valid_y = [x[idx] for idx in indexes[train_size:train_size+valid_size]], [y[idx] for idx in indexes[train_size:train_size+valid_size]] # A compléter\n",
    "    test_x, test_y = [x[idx] for idx in indexes[train_size+valid_size:]], [y[idx] for idx in indexes[train_size+valid_size:]] # A compléter\n",
    "    \n",
    "    return (train_x, train_y), (valid_x, valid_y), (test_x, test_y)"
   ]
  },
  {
   "cell_type": "code",
   "execution_count": 22,
   "metadata": {},
   "outputs": [],
   "source": [
    "# Choose the training, validation, testing splits\n",
    "splits = (0.8, 0.1)\n",
    "(train_f, train_c), (valid_f, valid_c), (test_f, test_c) = get_splits(filenames, categories, splits)"
   ]
  },
  {
   "cell_type": "code",
   "execution_count": 23,
   "metadata": {},
   "outputs": [
    {
     "name": "stdout",
     "output_type": "stream",
     "text": [
      "20000 20000\n",
      "2500 2500\n",
      "2500 2500\n"
     ]
    }
   ],
   "source": [
    "#Checking each set length\n",
    "print(len(train_f), len(train_c))\n",
    "print(len(valid_f), len(valid_c))\n",
    "print(len(test_f), len(test_c))"
   ]
  },
  {
   "cell_type": "markdown",
   "metadata": {},
   "source": [
    "We can now implement our ```TextClassificationDataset``` class, that we will build from:\n",
    "- A list of path to the IMDB files in the training set: ```path_to_file```\n",
    "- A list of the corresponding categories: ```categories```\n",
    "\n",
    "We will add three optional arguments:\n",
    "- First, a way to input a vocabulary (so that we can re-use the training vocabulary on the validation and training ```TextClassificationDataset```). By default, the value of the argument is ```None```.\n",
    "- In order to work with batches, we will need to have sequences of the same size. That can be done via **padding** but we will still need to limit the size of documents (to avoid having batches of huge sequences that are mostly empty because of one very long documents) to a ```max_length```. Let's put it to 100 by default.\n",
    "- Lastly, a ```min_freq``` that indicates how many times a word must appear to be taken in the vocabulary. "
   ]
  },
  {
   "cell_type": "markdown",
   "metadata": {},
   "source": [
    "The idea behind **padding** is to transform a list of pytorch tensors (of maybe different length) into a two dimensional tensor - which we can see as a batch. The size of the first dimension is the one of the longest tensor - and other are **padded** with a chosen symbol: here, we choose 0. "
   ]
  },
  {
   "cell_type": "code",
   "execution_count": 24,
   "metadata": {},
   "outputs": [],
   "source": [
    "tensor_1 = torch.LongTensor([1, 4, 5])\n",
    "tensor_2 = torch.LongTensor([2])\n",
    "tensor_3 = torch.LongTensor([6, 7])"
   ]
  },
  {
   "cell_type": "code",
   "execution_count": 25,
   "metadata": {},
   "outputs": [
    {
     "name": "stdout",
     "output_type": "stream",
     "text": [
      "tensor([[1, 4, 5],\n",
      "        [2, 0, 0],\n",
      "        [6, 7, 0]])\n"
     ]
    }
   ],
   "source": [
    "tensor_padded = pad_sequence([tensor_1, tensor_2, tensor_3], batch_first=True, padding_value = 0)\n",
    "print(tensor_padded)"
   ]
  },
  {
   "cell_type": "code",
   "execution_count": 26,
   "metadata": {},
   "outputs": [],
   "source": [
    "class TextClassificationDataset(Dataset):\n",
    "    def __init__(self, paths_to_files, categories, vocab = None, max_length = 100, min_freq = 5):\n",
    "        # Read all files and put the data in a list of strings\n",
    "        self.data = [open(f, encoding=\"utf8\").read() for f in paths_to_files]# A compléter\n",
    "        \n",
    "        # Set the maximum length we will keep for the sequences\n",
    "        self.max_length = max_length\n",
    "        \n",
    "        # Allow to import a vocabulary (for valid/test datasets, that will use the training vocabulary)\n",
    "        if vocab is not None:\n",
    "            self.word2idx, self.idx2word = vocab\n",
    "        else:\n",
    "            # If no vocabulary imported, build it (and reverse)\n",
    "            self.word2idx, self.idx2word = self.build_vocab(self.data, min_freq)\n",
    "        \n",
    "        # We then need to tokenize the data .. \n",
    "        tokenized_data = [self.clean_and_tokenize(text) for text in self.data] # A compléter\n",
    "        \n",
    "        # Transform words into lists of indexes ... (use the .get() method to redirect unknown words to the UNK token)\n",
    "        indexed_data = [self.indexed_transform(text) for text in tokenized_data] # A compléter\n",
    "        \n",
    "        # And transform this list of lists into a list of Pytorch LongTensors\n",
    "        tensor_data = [torch.LongTensor(idx_list).to(device=device) for idx_list in indexed_data]# A compléter\n",
    "        \n",
    "        # And the categories into a FloatTensor\n",
    "        tensor_y = torch.FloatTensor(categories).to(device=device)\n",
    "        # To finally cut it when it's above the maximum length\n",
    "        cut_tensor_data = [tensor[:max_length] for tensor in tensor_data]# A compléter\n",
    "        \n",
    "        # Now, we need to use the pad_sequence function to have the whole dataset represented as one tensor,\n",
    "        # containing sequences of the same length. We choose the padding_value to be 0, the we want the\n",
    "        # batch dimension to be the first dimension \n",
    "        self.tensor_data = pad_sequence(cut_tensor_data, batch_first=True, padding_value = 0) # A compléter\n",
    "        self.tensor_y = tensor_y\n",
    "        \n",
    "    def __len__(self):\n",
    "        return len(self.data)\n",
    "\n",
    "    def __getitem__(self, idx):\n",
    "        # The iterator just gets one particular example with its category\n",
    "        # The dataloader will take care of the shuffling and batching\n",
    "        if torch.is_tensor(idx):\n",
    "            idx = idx.tolist()\n",
    "        return self.tensor_data[idx], self.tensor_y[idx]    \n",
    "    \n",
    "    def clean_and_tokenize(self, text):\n",
    "        #lowercase\n",
    "        text = text.lower()\n",
    "        #removing numbers\n",
    "        text = re.sub(r\"[0-9]+\", \"\", text)\n",
    "        #removing words with 1 or 2 characters\n",
    "        text = re.sub(r\"\\b\\w{1,2}\\b\", \"\", text)\n",
    "        \n",
    "        tokens = [word for word in word_tokenize(text) if word.isalpha()]\n",
    "        return tokens\n",
    "    \n",
    "    def indexed_transform(self, text):\n",
    "        indexed_text = []\n",
    "        \n",
    "        for word in text:\n",
    "            try:\n",
    "                indexed_text.append(self.word2idx[word])\n",
    "            except KeyError:\n",
    "                indexed_text.append(self.word2idx.get(word, self.word2idx['UNK']))\n",
    "\n",
    "        return indexed_text\n",
    "    \n",
    "   \n",
    "    def build_vocab(self, corpus, count_threshold):\n",
    "        \"\"\"\n",
    "        Same as in the previous TP: we want to output word_index, a dictionary containing words \n",
    "        and their corresponding indexes as {word : indexes} \n",
    "        But we also want the reverse, which is a dictionary {indexes: word}\n",
    "        Don't forget to add a UNK token that we need when encountering unknown words\n",
    "        We also choose '0' to represent the padding index, so begin the vocabulary index at 1 !     \n",
    "        \"\"\"\n",
    "        # A compléter\n",
    "        frequency = {}\n",
    "        for text in corpus:\n",
    "            tokenized_text = self.clean_and_tokenize(text)\n",
    "            \n",
    "            for word in tokenized_text:\n",
    "                try: \n",
    "                    frequency[word] += 1\n",
    "                except KeyError:\n",
    "                    frequency[word] = 1\n",
    "                \n",
    "        frequency = {key:value for key,value in frequency.items() if value >= count_threshold}  \n",
    "        frequency['UNK'] = 0\n",
    "        \n",
    "        word_index = dict(zip(frequency.keys(), range(1, len(frequency)+1)))\n",
    "        idx_word = dict(zip(range(1, len(frequency)+1), frequency.keys()))\n",
    "        \n",
    "        return word_index, idx_word\n",
    "    \n",
    "    def get_vocab(self):\n",
    "        # A simple way to get the training vocab when building the valid/test \n",
    "        return self.word2idx, self.idx2word"
   ]
  },
  {
   "cell_type": "code",
   "execution_count": 27,
   "metadata": {},
   "outputs": [],
   "source": [
    "training_dataset = TextClassificationDataset(train_f, train_c)\n",
    "training_word2idx, training_idx2word = training_dataset.get_vocab()"
   ]
  },
  {
   "cell_type": "code",
   "execution_count": 28,
   "metadata": {},
   "outputs": [],
   "source": [
    "valid_dataset = TextClassificationDataset(valid_f, valid_c, (training_word2idx, training_idx2word))\n",
    "test_dataset = TextClassificationDataset(test_f, test_c, (training_word2idx, training_idx2word))"
   ]
  },
  {
   "cell_type": "code",
   "execution_count": 29,
   "metadata": {},
   "outputs": [],
   "source": [
    "training_dataloader = DataLoader(training_dataset, batch_size = 200, shuffle=True)\n",
    "valid_dataloader = DataLoader(valid_dataset, batch_size = 25)\n",
    "test_dataloader = DataLoader(test_dataset, batch_size = 25)"
   ]
  },
  {
   "cell_type": "code",
   "execution_count": 30,
   "metadata": {},
   "outputs": [
    {
     "name": "stdout",
     "output_type": "stream",
     "text": [
      "(tensor([   19,  1479,   157,   120,   998,    19,  1581,     2,   157,    81,\n",
      "        24990,  1197,  1007,    43,  1183,   346,   112, 10893,   140,  1060,\n",
      "           10,   365,  2745,    91,   443,   704,    19,   167,   933,  1437,\n",
      "           19,   652,  1055,    19,  1678,  5024,     2,   324,   104,  1716,\n",
      "         4395,    15,   168,  2180,  2031,    43,    19,   813,   126,  1298,\n",
      "          731,   651,  5103, 12697, 24990,   111,  1329,    19,  6862,  5035,\n",
      "           91,   112,    19,  5606,   156,  2089,  4065,    19,  1694,  5508,\n",
      "          115,  1060,  5527,     2,   111,   783,  3523,    97,    19,   153,\n",
      "           19,  1581,  1031,  5123,    85, 11110,    58,   696,   641,     2,\n",
      "            5,   868,    19,  7504,  4157, 13483,  8227,    19,   875,    81],\n",
      "       device='cuda:0'), tensor(0., device='cuda:0'))\n"
     ]
    }
   ],
   "source": [
    "print(training_dataset[19999])"
   ]
  },
  {
   "cell_type": "code",
   "execution_count": 31,
   "metadata": {},
   "outputs": [
    {
     "name": "stdout",
     "output_type": "stream",
     "text": [
      "torch.Size([200, 100])\n",
      "torch.Size([200])\n"
     ]
    }
   ],
   "source": [
    "example_batch = next(iter(training_dataloader))\n",
    "print(example_batch[0].size())\n",
    "print(example_batch[1].size())"
   ]
  },
  {
   "cell_type": "markdown",
   "metadata": {},
   "source": [
    "### A simple averaging model\n",
    "\n",
    "Now, we will implement in Pytorch what we did in the previous TP: a simple averaging model. For each model we will implement, we need to create a class which inherits from ```nn.Module``` and redifine the ```__init__``` method as well as the ```forward``` method."
   ]
  },
  {
   "cell_type": "code",
   "execution_count": 32,
   "metadata": {},
   "outputs": [],
   "source": [
    "# Models are usually implemented as custom nn.Module subclass\n",
    "# We need to redefine the __init__ method, which creates the object\n",
    "# We also need to redefine the forward method, which transform the input into outputs\n",
    "\n",
    "class AveragingModel(nn.Module):    \n",
    "    def __init__(self, embedding_dim, vocabulary_size):\n",
    "        super().__init__()\n",
    "        # Create an embedding object. Be careful to padding - you need to increase the vocabulary size by one !\n",
    "        # Look into the arguments of the nn.Embedding class\n",
    "        self.embeddings = nn.Embedding(vocabulary_size + 1, embedding_dim, padding_idx = 0).to(device=device)\n",
    "        # Create a linear layer that will transform the mean of the embeddings into a classification score\n",
    "        self.linear = nn.Linear(embedding_dim, 1).to(device=device)\n",
    "        \n",
    "        # No need for sigmoid, it will be into the criterion ! \n",
    "        \n",
    "    def forward(self, inputs):\n",
    "        # Remember: the inpts are written as Batch_size * seq_length * embedding_dim\n",
    "        # First, take the mean of the embeddings of the document\n",
    "        x = self.embeddings(inputs)\n",
    "        x = torch.mean(x,dim=1,keepdim=False)\n",
    "        #print(x.shape)\n",
    "        # Then make it go through the linear layer and remove the extra dimension with the method .squeeze()\n",
    "        o = self.linear(x).squeeze(dim=1)\n",
    "        return o"
   ]
  },
  {
   "cell_type": "code",
   "execution_count": 33,
   "metadata": {},
   "outputs": [],
   "source": [
    "import torch.optim as optim"
   ]
  },
  {
   "cell_type": "code",
   "execution_count": 34,
   "metadata": {},
   "outputs": [],
   "source": [
    "model = AveragingModel(300, len(training_word2idx))\n",
    "# Create an optimizer\n",
    "opt = optim.Adam(model.parameters(), lr=0.0025, betas=(0.9, 0.999))\n",
    "# The criterion is a binary cross entropy loss based on logits - meaning that the sigmoid is integrated into the criterion\n",
    "criterion = nn.BCEWithLogitsLoss()"
   ]
  },
  {
   "cell_type": "code",
   "execution_count": 35,
   "metadata": {},
   "outputs": [],
   "source": [
    "def positive(x):\n",
    "    return torch.sigmoid(x) > 0.5"
   ]
  },
  {
   "cell_type": "code",
   "execution_count": 36,
   "metadata": {},
   "outputs": [],
   "source": [
    "# Implement a training function, which will train the model with the corresponding optimizer and criterion,\n",
    "# with the appropriate dataloader, for one epoch.\n",
    "\n",
    "def train_epoch(model, opt, criterion, dataloader):\n",
    "    model.train()\n",
    "    losses = []\n",
    "    for i, (x, y) in enumerate(dataloader):\n",
    "        opt.zero_grad()\n",
    "        # (1) Forward\n",
    "        pred = model(x)\n",
    "        # (2) Compute the loss \n",
    "        loss = criterion(pred, y)\n",
    "        # (3) Compute gradients with the criterion\n",
    "        loss.backward()\n",
    "        # (4) Update weights with the optimizer\n",
    "        opt.step()      \n",
    "        losses.append(loss.item())\n",
    "        # Count the number of correct predictions in the batch - here, you'll need to use the sigmoid\n",
    "        num_corrects = (positive(pred) & y.bool()).sum() + (~positive(pred) & ~y.bool()).sum()\n",
    "        #print(\"tipo\")\n",
    "        #num_corrects = num_corrects.item()\n",
    "        #print(type(num_corrects))\n",
    "        acc = 100.0 * num_corrects/len(y)\n",
    "        \n",
    "        #if (i%20 == 0):\n",
    "        #    print(\"Batch \" + str(i) + \" : training loss = \" + str(loss.item()) + \"; training acc = \" + str(acc.item()))\n",
    "    return losses"
   ]
  },
  {
   "cell_type": "code",
   "execution_count": 37,
   "metadata": {},
   "outputs": [],
   "source": [
    "# Same for the evaluation ! We don't need the optimizer here. \n",
    "def eval_model(model, criterion, evalloader):\n",
    "    model.eval()\n",
    "    total_epoch_loss = 0\n",
    "    total_epoch_acc = 0\n",
    "    with torch.no_grad():\n",
    "        for i, (x, y) in enumerate(evalloader):\n",
    "            pred = model(x)\n",
    "            loss = criterion(pred, y)\n",
    "            num_corrects = (positive(pred) & y.bool()).sum() + (~positive(pred) & ~y.bool()).sum()\n",
    "            acc = 100.0 * num_corrects/len(y)\n",
    "            total_epoch_loss += loss.item()\n",
    "            total_epoch_acc += acc.item()\n",
    "\n",
    "    return total_epoch_loss/(i+1), total_epoch_acc/(i+1)"
   ]
  },
  {
   "cell_type": "code",
   "execution_count": 38,
   "metadata": {},
   "outputs": [],
   "source": [
    "# A function which will help you execute experiments rapidly - with a early_stopping option when necessary. \n",
    "def experiment(model, opt, criterion, num_epochs = 5, early_stopping = True):\n",
    "    train_losses = []\n",
    "    if early_stopping: \n",
    "        best_valid_loss = 10. \n",
    "    print(\"Beginning training...\")\n",
    "    for e in range(num_epochs):\n",
    "        #print(\"Epoch \" + str(e+1) + \":\")\n",
    "        train_losses += train_epoch(model, opt, criterion, training_dataloader)\n",
    "        valid_loss, valid_acc = eval_model(model, criterion, valid_dataloader)\n",
    "        print(\"Epoch \" + str(e+1) + \" : Validation loss = \" + str(valid_loss) + \"; Validation acc = \" + str(valid_acc))\n",
    "        if early_stopping:\n",
    "            if valid_loss < best_valid_loss:\n",
    "                best_valid_loss = valid_loss\n",
    "            else:\n",
    "                print(\"Early stopping.\")\n",
    "                break  \n",
    "    test_loss, test_acc = eval_model(model, criterion, test_dataloader)\n",
    "    print(\"Epoch \" + str(e+1) + \" : Test loss = \" + str(test_loss) + \"; Test acc = \" + str(test_acc))\n",
    "    return train_losses"
   ]
  },
  {
   "cell_type": "code",
   "execution_count": 39,
   "metadata": {},
   "outputs": [
    {
     "name": "stdout",
     "output_type": "stream",
     "text": [
      "Beginning training...\n",
      "Epoch 1 : Validation loss = 0.5029815906286239; Validation acc = 78.36\n",
      "Epoch 2 : Validation loss = 0.3813204072415829; Validation acc = 83.88\n",
      "Epoch 3 : Validation loss = 0.3468446886539459; Validation acc = 84.92\n",
      "Epoch 4 : Validation loss = 0.33846028476953505; Validation acc = 85.4\n",
      "Epoch 5 : Validation loss = 0.3438218307495117; Validation acc = 85.16\n",
      "Early stopping.\n",
      "Epoch 5 : Test loss = 0.3485631788522005; Test acc = 84.56\n"
     ]
    }
   ],
   "source": [
    "train_losses = experiment(model, opt, criterion)"
   ]
  },
  {
   "cell_type": "markdown",
   "metadata": {},
   "source": [
    "### With Glove embeddings: \n",
    "\n",
    "Now, we would like to integrate pre-trained word embeddings into our model ! Let's use again the functions that we used in the previous TP:"
   ]
  },
  {
   "cell_type": "code",
   "execution_count": 40,
   "metadata": {},
   "outputs": [],
   "source": [
    "#pip install gensim"
   ]
  },
  {
   "cell_type": "code",
   "execution_count": 41,
   "metadata": {},
   "outputs": [],
   "source": [
    "import gensim.downloader as api\n",
    "loaded_glove_model = api.load(\"glove-wiki-gigaword-300\")\n",
    "loaded_glove_embeddings = loaded_glove_model.vectors"
   ]
  },
  {
   "cell_type": "code",
   "execution_count": 42,
   "metadata": {},
   "outputs": [],
   "source": [
    "def get_glove_adapted_embeddings(glove_model, input_voc):\n",
    "    keys = {i: glove_model.vocab.get(w, None) for w, i in input_voc.items()}\n",
    "    index_dict = {i: key.index for i, key in keys.items() if key is not None}\n",
    "    embeddings = np.zeros((len(input_voc)+1,glove_model.vectors.shape[1]))\n",
    "    for i, ind in index_dict.items():\n",
    "        embeddings[i] = glove_model.vectors[ind]\n",
    "    return embeddings\n",
    "\n",
    "GloveEmbeddings = get_glove_adapted_embeddings(loaded_glove_model, training_word2idx)"
   ]
  },
  {
   "cell_type": "code",
   "execution_count": 43,
   "metadata": {},
   "outputs": [
    {
     "name": "stdout",
     "output_type": "stream",
     "text": [
      "(24991, 300)\n"
     ]
    }
   ],
   "source": [
    "print(GloveEmbeddings.shape)\n",
    "# We should check that the \"padding\" vector is at zero\n",
    "#print(GloveEmbeddings[0])\n",
    "# numpy array to tensor torch\n",
    "GloveEmbeddings = torch.FloatTensor(GloveEmbeddings).to(device=device)"
   ]
  },
  {
   "cell_type": "markdown",
   "metadata": {},
   "source": [
    "Here, implement a ```PretrainedAveragingModel``` very similar to the previous model, using the ```nn.Embedding``` method ```from_pretrained()``` to initialize the embeddings from a numpy array. Use the ```requires_grad_``` method to specify if the model must fine-tune the embeddings or not ! "
   ]
  },
  {
   "cell_type": "code",
   "execution_count": 44,
   "metadata": {},
   "outputs": [],
   "source": [
    "class PretrainedAveragingModel(nn.Module):\n",
    "    def __init__(self, embedding_dim, freeze):\n",
    "        super().__init__()\n",
    "        #GloveEmbeddings = torch.FloatTensor(GloveEmbeddings)\n",
    "        \n",
    "        self.embeddings = nn.Embedding.from_pretrained(GloveEmbeddings, freeze = freeze, padding_idx = 0).to(device=device)\n",
    "        #self.embeddings.requires_grad = fine_tune\n",
    "        \n",
    "        self.linear = nn.Linear(embedding_dim, 1).to(device=device)\n",
    "        \n",
    "    def forward(self, inputs):\n",
    "        # Remember: the inpts are written as Batch_size * seq_length * embedding_dim\n",
    "        # First, take the mean of the embeddings of the document\n",
    "        x = self.embeddings(inputs)\n",
    "        x = torch.mean(x,dim=1,keepdim=False)\n",
    "        #print(x.shape)\n",
    "        # Then make it go through the linear layer and remove the extra dimension with the method .squeeze()\n",
    "        o = self.linear(x).squeeze(dim=1)\n",
    "        return o"
   ]
  },
  {
   "cell_type": "code",
   "execution_count": 45,
   "metadata": {},
   "outputs": [
    {
     "name": "stdout",
     "output_type": "stream",
     "text": [
      "Beginning training...\n",
      "Epoch 1 : Validation loss = 0.6282575166225434; Validation acc = 69.92\n",
      "Epoch 2 : Validation loss = 0.5912521886825561; Validation acc = 72.68\n",
      "Epoch 3 : Validation loss = 0.5676053780317306; Validation acc = 73.24\n",
      "Epoch 4 : Validation loss = 0.5502745032310485; Validation acc = 74.76\n",
      "Epoch 5 : Validation loss = 0.5365057972073555; Validation acc = 76.08\n",
      "Epoch 6 : Validation loss = 0.5256952893733978; Validation acc = 76.04\n",
      "Epoch 7 : Validation loss = 0.5164226084947586; Validation acc = 76.68\n",
      "Epoch 8 : Validation loss = 0.509132424890995; Validation acc = 76.96\n",
      "Epoch 9 : Validation loss = 0.5032507303357124; Validation acc = 77.28\n",
      "Epoch 10 : Validation loss = 0.49766977250576017; Validation acc = 77.76\n",
      "Epoch 11 : Validation loss = 0.49371150106191636; Validation acc = 77.6\n",
      "Epoch 12 : Validation loss = 0.48800705224275587; Validation acc = 78.12\n",
      "Epoch 13 : Validation loss = 0.48527451276779177; Validation acc = 78.28\n",
      "Epoch 14 : Validation loss = 0.48254008203744886; Validation acc = 78.28\n",
      "Epoch 15 : Validation loss = 0.4805840253829956; Validation acc = 77.92\n",
      "Epoch 16 : Validation loss = 0.4746914106607437; Validation acc = 78.84\n",
      "Epoch 17 : Validation loss = 0.4744442278146744; Validation acc = 78.24\n",
      "Epoch 18 : Validation loss = 0.47044924467802046; Validation acc = 79.08\n",
      "Epoch 19 : Validation loss = 0.46802395820617676; Validation acc = 79.48\n",
      "Epoch 20 : Validation loss = 0.4682400888204575; Validation acc = 78.72\n",
      "Early stopping.\n",
      "Epoch 20 : Test loss = 0.4703542160987854; Test acc = 78.32\n"
     ]
    }
   ],
   "source": [
    "model = PretrainedAveragingModel(GloveEmbeddings.shape[1], freeze = True)\n",
    "# Create an optimizer\n",
    "opt = optim.Adam(model.parameters(), lr=0.0025, betas=(0.9, 0.999))\n",
    "# The criterion is a binary cross entropy loss based on logits - meaning that the sigmoid is integrated into the criterion\n",
    "criterion = nn.BCEWithLogitsLoss()\n",
    "\n",
    "train_losses = experiment(model, opt, criterion, num_epochs = 100, early_stopping = True)"
   ]
  },
  {
   "cell_type": "code",
   "execution_count": 46,
   "metadata": {},
   "outputs": [
    {
     "name": "stdout",
     "output_type": "stream",
     "text": [
      "Beginning training...\n",
      "Epoch 1 : Validation loss = 0.45615950286388396; Validation acc = 82.12\n",
      "Epoch 2 : Validation loss = 0.3586470656096935; Validation acc = 85.0\n",
      "Epoch 3 : Validation loss = 0.333455461114645; Validation acc = 85.96\n",
      "Epoch 4 : Validation loss = 0.33386130541563036; Validation acc = 86.12\n",
      "Early stopping.\n",
      "Epoch 4 : Test loss = 0.3375783228874207; Test acc = 86.04\n"
     ]
    }
   ],
   "source": [
    "model_tuned = PretrainedAveragingModel(GloveEmbeddings.shape[1], freeze = False)\n",
    "# Create an optimizer\n",
    "opt = optim.Adam(model_tuned.parameters(), lr=0.0025, betas=(0.9, 0.999))\n",
    "# The criterion is a binary cross entropy loss based on logits - meaning that the sigmoid is integrated into the criterion\n",
    "criterion = nn.BCEWithLogitsLoss()\n",
    "\n",
    "train_losses_tuned = experiment(model_tuned, opt, criterion, num_epochs = 10, early_stopping = True)"
   ]
  },
  {
   "cell_type": "markdown",
   "metadata": {},
   "source": [
    "### Questions: \n",
    "- What are the results **with and without fine-tuning of embeddings imported from GloVe** ?\n",
    "\n",
    "- Make hypothesis based on your intuition and the class on how\n",
    "    - the number of documents (take only a portion of the 25.000 documents !)\n",
    "    - the size of the vocabulary (change the minimum frequency of words to be taken in the vocabulary ! )\n",
    "  will impact results, in the three cases (No pre-training, pre-training without fine-tuning, pretraining with fine-tuning).\n",
    "  \n",
    "- Verify your hypothesis with experiments and analyze your results !"
   ]
  },
  {
   "cell_type": "markdown",
   "metadata": {},
   "source": [
    "### Results with and without fine-tunng of embeddings imported from GloVe"
   ]
  },
  {
   "cell_type": "code",
   "execution_count": 56,
   "metadata": {},
   "outputs": [],
   "source": [
    "import matplotlib.pyplot as plt\n",
    "from scipy.signal import lfilter"
   ]
  },
  {
   "cell_type": "code",
   "execution_count": 57,
   "metadata": {},
   "outputs": [
    {
     "data": {
      "image/png": "[encoded data removed]",
      "text/plain": [
       "<Figure size 1152x648 with 1 Axes>"
      ]
     },
     "metadata": {
      "needs_background": "light"
     },
     "output_type": "display_data"
    }
   ],
   "source": [
    "plt.figure(figsize=(16,9))\n",
    "\n",
    "n = 30  # the larger n is, the smoother curve will be\n",
    "b = [1.0 / n] * n\n",
    "a = 1\n",
    "\n",
    "plt.plot(train_losses[30:])\n",
    "plt.plot(train_losses_tuned[30:])\n",
    "plt.plot(lfilter(b, a, train_losses)[30:], label = 'Train losses filtered without fine-tuned')\n",
    "plt.plot(lfilter(b, a, train_losses_tuned)[30:], label = 'Train losses filtered with fine-tuned')\n",
    "\n",
    "plt.title(\"Train Losses plot\")\n",
    "plt.xlabel(\"Number of weights update\")\n",
    "plt.ylabel(\"Loss value\")\n",
    "plt.legend()\n",
    "plt.show()"
   ]
  },
  {
   "cell_type": "markdown",
   "metadata": {},
   "source": [
    "## Portion of documents\n",
    "\n",
    "25%, 50% and 75%"
   ]
  },
  {
   "cell_type": "code",
   "execution_count": 58,
   "metadata": {},
   "outputs": [],
   "source": [
    "def subsample_docs(k, splits):\n",
    "    filenames = random.sample(filenames_neg, int(k*len(filenames_neg))) + random.sample(filenames_pos, int(k*len(filenames_neg)))\n",
    "    categories = np.ones(len(filenames), dtype=np.int)\n",
    "    categories[:int(k*len(filenames_neg))] = 0.\n",
    "\n",
    "    print(\"%d documents\" % len(filenames))\n",
    "    \n",
    "    return filenames, categories"
   ]
  },
  {
   "cell_type": "code",
   "execution_count": 61,
   "metadata": {},
   "outputs": [
    {
     "name": "stdout",
     "output_type": "stream",
     "text": [
      "25.0 % of documents\n",
      "6250 documents\n",
      "Averaging Model\n",
      "Beginning training...\n",
      "Epoch 1 : Validation loss = 0.6583661484718323; Validation acc = 66.88\n",
      "Epoch 2 : Validation loss = 0.6175641465187073; Validation acc = 68.0\n",
      "Epoch 3 : Validation loss = 0.5627541434764862; Validation acc = 73.44\n",
      "Epoch 4 : Validation loss = 0.5007393538951874; Validation acc = 77.28\n",
      "Epoch 5 : Validation loss = 0.4532706391811371; Validation acc = 80.32\n",
      "Epoch 5 : Test loss = 0.47195074319839475; Test acc = 76.96\n",
      "Pretrained Averaging Model without fine tunning\n",
      "Beginning training...\n",
      "Epoch 1 : Validation loss = 0.6890007138252259; Validation acc = 54.24\n",
      "Epoch 2 : Validation loss = 0.6849578595161439; Validation acc = 57.28\n",
      "Epoch 3 : Validation loss = 0.6830874395370483; Validation acc = 57.6\n",
      "Epoch 4 : Validation loss = 0.6782774496078491; Validation acc = 58.88\n",
      "Epoch 5 : Validation loss = 0.6756125330924988; Validation acc = 59.36\n",
      "Epoch 6 : Validation loss = 0.6761895346641541; Validation acc = 59.52\n",
      "Early stopping.\n",
      "Epoch 6 : Test loss = 0.6632539892196655; Test acc = 61.6\n",
      "Pretrained Averaging Model with fine tunning\n",
      "Beginning training...\n",
      "Epoch 1 : Validation loss = 0.6794664764404297; Validation acc = 55.84\n",
      "Epoch 2 : Validation loss = 0.62205557346344; Validation acc = 70.88\n",
      "Epoch 3 : Validation loss = 0.5433974397182465; Validation acc = 76.16\n",
      "Epoch 4 : Validation loss = 0.4732849133014679; Validation acc = 78.4\n",
      "Epoch 5 : Validation loss = 0.4222524547576904; Validation acc = 82.24\n",
      "Epoch 6 : Validation loss = 0.39998335123062134; Validation acc = 82.4\n",
      "Epoch 7 : Validation loss = 0.38499058067798614; Validation acc = 83.52\n",
      "Epoch 8 : Validation loss = 0.37150604486465455; Validation acc = 83.36\n",
      "Epoch 9 : Validation loss = 0.3671183729171753; Validation acc = 83.84\n",
      "Epoch 10 : Validation loss = 0.3736459404230118; Validation acc = 83.68\n",
      "Early stopping.\n",
      "Epoch 10 : Test loss = 0.4108961272239685; Test acc = 82.88\n",
      "\n",
      "\n",
      "50.0 % of documents\n",
      "12500 documents\n",
      "Averaging Model\n",
      "Beginning training...\n",
      "Epoch 1 : Validation loss = 0.6145683956146241; Validation acc = 71.44\n",
      "Epoch 2 : Validation loss = 0.49867805480957034; Validation acc = 78.64\n",
      "Epoch 3 : Validation loss = 0.4126392462849617; Validation acc = 82.96\n",
      "Epoch 4 : Validation loss = 0.37257284253835676; Validation acc = 84.24\n",
      "Epoch 5 : Validation loss = 0.3562086448073387; Validation acc = 85.36\n",
      "Epoch 5 : Test loss = 0.36448695182800295; Test acc = 83.92\n",
      "Pretrained Averaging Model without fine tunning\n",
      "Beginning training...\n",
      "Epoch 1 : Validation loss = 0.6845340692996978; Validation acc = 57.84\n",
      "Epoch 2 : Validation loss = 0.6787799263000488; Validation acc = 58.88\n",
      "Epoch 3 : Validation loss = 0.6741243314743042; Validation acc = 59.6\n",
      "Epoch 4 : Validation loss = 0.6695581555366517; Validation acc = 60.96\n",
      "Epoch 5 : Validation loss = 0.6660424947738648; Validation acc = 61.76\n",
      "Epoch 6 : Validation loss = 0.6630029487609863; Validation acc = 61.44\n",
      "Epoch 7 : Validation loss = 0.6599543821811676; Validation acc = 62.48\n",
      "Epoch 8 : Validation loss = 0.6574987816810608; Validation acc = 62.24\n",
      "Epoch 9 : Validation loss = 0.6562946903705597; Validation acc = 62.24\n",
      "Epoch 10 : Validation loss = 0.6522501373291015; Validation acc = 63.44\n",
      "Epoch 11 : Validation loss = 0.6500373744964599; Validation acc = 63.6\n",
      "Epoch 12 : Validation loss = 0.6493018913269043; Validation acc = 62.4\n",
      "Epoch 13 : Validation loss = 0.6464671492576599; Validation acc = 63.2\n",
      "Epoch 14 : Validation loss = 0.6448836624622345; Validation acc = 64.64\n",
      "Epoch 15 : Validation loss = 0.6427443182468414; Validation acc = 65.2\n",
      "Epoch 16 : Validation loss = 0.6416676151752472; Validation acc = 64.32\n",
      "Epoch 17 : Validation loss = 0.6401951265335083; Validation acc = 64.48\n",
      "Epoch 18 : Validation loss = 0.6381900680065155; Validation acc = 65.6\n",
      "Epoch 19 : Validation loss = 0.6371722638607025; Validation acc = 65.52\n",
      "Epoch 20 : Validation loss = 0.6358744883537293; Validation acc = 64.64\n",
      "Epoch 21 : Validation loss = 0.6340490090847015; Validation acc = 66.0\n",
      "Epoch 22 : Validation loss = 0.6338466691970825; Validation acc = 64.8\n",
      "Epoch 23 : Validation loss = 0.6318632209300995; Validation acc = 65.92\n",
      "Epoch 24 : Validation loss = 0.6317260146141053; Validation acc = 64.88\n",
      "Epoch 25 : Validation loss = 0.6317789340019226; Validation acc = 65.04\n",
      "Early stopping.\n",
      "Epoch 25 : Test loss = 0.63314906001091; Test acc = 65.68\n",
      "Pretrained Averaging Model with fine tunning\n",
      "Beginning training...\n",
      "Epoch 1 : Validation loss = 0.6188937449455261; Validation acc = 75.2\n",
      "Epoch 2 : Validation loss = 0.4642618155479431; Validation acc = 82.0\n",
      "Epoch 3 : Validation loss = 0.3812276464700699; Validation acc = 84.64\n",
      "Epoch 4 : Validation loss = 0.35228170156478883; Validation acc = 85.68\n",
      "Epoch 5 : Validation loss = 0.34437753885984423; Validation acc = 85.52\n",
      "Epoch 6 : Validation loss = 0.3449149058759213; Validation acc = 85.92\n",
      "Early stopping.\n",
      "Epoch 6 : Test loss = 0.3541287612915039; Test acc = 84.48\n",
      "\n",
      "\n",
      "75.0 % of documents\n",
      "18750 documents\n",
      "Averaging Model\n",
      "Beginning training...\n",
      "Epoch 1 : Validation loss = 0.5639217189947764; Validation acc = 74.29333333333334\n",
      "Epoch 2 : Validation loss = 0.4302154231071472; Validation acc = 81.22666666666667\n",
      "Epoch 3 : Validation loss = 0.3714050533374151; Validation acc = 82.72\n",
      "Epoch 4 : Validation loss = 0.35034629156192143; Validation acc = 84.42666666666666\n",
      "Epoch 5 : Validation loss = 0.3451766802867254; Validation acc = 85.01333333333334\n",
      "Epoch 5 : Test loss = 0.3447039741277695; Test acc = 85.33333333333333\n",
      "Pretrained Averaging Model without fine tunning\n",
      "Beginning training...\n",
      "Epoch 1 : Validation loss = 0.6790476099650065; Validation acc = 57.973333333333336\n",
      "Epoch 2 : Validation loss = 0.6714832782745361; Validation acc = 58.50666666666667\n",
      "Epoch 3 : Validation loss = 0.6667969695727031; Validation acc = 59.413333333333334\n",
      "Epoch 4 : Validation loss = 0.6626223961512248; Validation acc = 59.14666666666667\n",
      "Epoch 5 : Validation loss = 0.6594250710805257; Validation acc = 60.10666666666667\n",
      "Epoch 6 : Validation loss = 0.6568619736035665; Validation acc = 59.733333333333334\n",
      "Epoch 7 : Validation loss = 0.652736964225769; Validation acc = 61.28\n",
      "Epoch 8 : Validation loss = 0.6517476272583008; Validation acc = 60.373333333333335\n",
      "Epoch 9 : Validation loss = 0.6482378665606181; Validation acc = 60.74666666666667\n",
      "Epoch 10 : Validation loss = 0.6451849373181661; Validation acc = 60.8\n",
      "Epoch 11 : Validation loss = 0.6436050534248352; Validation acc = 61.013333333333335\n",
      "Epoch 12 : Validation loss = 0.6415811451276143; Validation acc = 61.06666666666667\n",
      "Epoch 13 : Validation loss = 0.6386666822433472; Validation acc = 62.13333333333333\n",
      "Epoch 14 : Validation loss = 0.6375213575363159; Validation acc = 61.70666666666666\n",
      "Epoch 15 : Validation loss = 0.6357105787595113; Validation acc = 63.57333333333333\n",
      "Epoch 16 : Validation loss = 0.6341206169128418; Validation acc = 62.18666666666667\n",
      "Epoch 17 : Validation loss = 0.6329584240913391; Validation acc = 62.24\n",
      "Epoch 18 : Validation loss = 0.6309864377975464; Validation acc = 63.093333333333334\n",
      "Epoch 19 : Validation loss = 0.6299778302510579; Validation acc = 63.36\n",
      "Epoch 20 : Validation loss = 0.6298854891459147; Validation acc = 62.77333333333333\n",
      "Epoch 21 : Validation loss = 0.6280311846733093; Validation acc = 63.04\n",
      "Epoch 22 : Validation loss = 0.6261579577128092; Validation acc = 64.0\n",
      "Epoch 23 : Validation loss = 0.6254199997584025; Validation acc = 63.57333333333333\n",
      "Epoch 24 : Validation loss = 0.625554100672404; Validation acc = 63.46666666666667\n",
      "Early stopping.\n",
      "Epoch 24 : Test loss = 0.6159873676300048; Test acc = 67.2\n",
      "Pretrained Averaging Model with fine tunning\n",
      "Beginning training...\n",
      "Epoch 1 : Validation loss = 0.5522850688298543; Validation acc = 75.2\n",
      "Epoch 2 : Validation loss = 0.39441494445006053; Validation acc = 83.2\n",
      "Epoch 3 : Validation loss = 0.3492523300647736; Validation acc = 84.26666666666667\n",
      "Epoch 4 : Validation loss = 0.3325678696235021; Validation acc = 84.48\n",
      "Epoch 5 : Validation loss = 0.33486649006605146; Validation acc = 84.53333333333333\n",
      "Early stopping.\n",
      "Epoch 5 : Test loss = 0.3445909979939461; Test acc = 85.22666666666667\n",
      "\n",
      "\n"
     ]
    }
   ],
   "source": [
    "train_losses_list = []\n",
    "\n",
    "for k in [0.25, 0.50, 0.75]:\n",
    "    print(str(100 * k) + \" % of documents\")\n",
    "    \n",
    "    filenames, categories = subsample_docs(k, splits)\n",
    "    (train_f, train_c), (valid_f, valid_c), (test_f, test_c) = get_splits(filenames, categories, splits)\n",
    "\n",
    "    training_dataset = TextClassificationDataset(train_f, train_c)\n",
    "    training_word2idx, training_idx2word = training_dataset.get_vocab()\n",
    "\n",
    "    valid_dataset = TextClassificationDataset(valid_f, valid_c, (training_word2idx, training_idx2word))\n",
    "    test_dataset = TextClassificationDataset(test_f, test_c, (training_word2idx, training_idx2word))\n",
    "\n",
    "    training_dataloader = DataLoader(training_dataset, batch_size = 200, shuffle=True)\n",
    "    valid_dataloader = DataLoader(valid_dataset, batch_size = 25)\n",
    "    test_dataloader = DataLoader(test_dataset, batch_size = 25)\n",
    "    \n",
    "    print(\"Averaging Model\")\n",
    "    model = AveragingModel(300, len(training_word2idx))\n",
    "    opt = optim.Adam(model.parameters(), lr=0.0025, betas=(0.9, 0.999))\n",
    "    criterion = nn.BCEWithLogitsLoss()\n",
    "    \n",
    "    train_losses_AM = experiment(model, opt, criterion)\n",
    "    \n",
    "    print(\"Pretrained Averaging Model without fine tunning\")\n",
    "    model = PretrainedAveragingModel(GloveEmbeddings.shape[1], freeze = True)\n",
    "    opt = optim.Adam(model.parameters(), lr=0.0025, betas=(0.9, 0.999))\n",
    "    criterion = nn.BCEWithLogitsLoss()\n",
    "\n",
    "    train_losses_PAM = experiment(model, opt, criterion, num_epochs = 100, early_stopping = True)\n",
    "    \n",
    "    print(\"Pretrained Averaging Model with fine tunning\")\n",
    "    model = PretrainedAveragingModel(GloveEmbeddings.shape[1], freeze = False)\n",
    "    opt = optim.Adam(model.parameters(), lr=0.0025, betas=(0.9, 0.999))\n",
    "    criterion = nn.BCEWithLogitsLoss()\n",
    "\n",
    "    train_losses_PAM_tuned = experiment(model, opt, criterion, num_epochs = 100, early_stopping = True)\n",
    "    \n",
    "    train_losses_list.append([train_losses_AM, train_losses_PAM, train_losses_PAM_tuned])\n",
    "    \n",
    "    print(\"\\n\")\n"
   ]
  },
  {
   "cell_type": "code",
   "execution_count": 88,
   "metadata": {},
   "outputs": [
    {
     "data": {
      "image/png": "[encoded data removed]",
      "text/plain": [
       "<Figure size 720x1296 with 3 Axes>"
      ]
     },
     "metadata": {
      "needs_background": "light"
     },
     "output_type": "display_data"
    }
   ],
   "source": [
    "fig, axs = plt.subplots(3,1, figsize=(10,18))\n",
    "\n",
    "\n",
    "n = 30  # the larger n is, the smoother curve will be\n",
    "b = [1.0 / n] * n\n",
    "a = 1\n",
    "\n",
    "axs[0].plot(lfilter(b, a, train_losses_list[0][0])[30:], label = '25%: No pre-trained model')\n",
    "axs[0].plot(lfilter(b, a, train_losses_list[0][1])[30:], label = '25%: Pretrained model with fine-tunning')\n",
    "axs[0].plot(lfilter(b, a, train_losses_list[0][2])[30:], label = '25%: Pretrained model with fine-tunning')\n",
    "\n",
    "axs[0].title.set_text('25%: Train Losses plot')\n",
    "axs[0].set_xlabel(\"Number of weights update\")\n",
    "axs[0].set_ylabel(\"Loss value\")\n",
    "axs[0].legend()\n",
    "\n",
    "axs[1].plot(lfilter(b, a, train_losses_list[1][0])[30:], label = '50%: No pre-trained model')\n",
    "axs[1].plot(lfilter(b, a, train_losses_list[1][1])[30:], label = '50%: Pretrained model with fine-tunning')\n",
    "axs[1].plot(lfilter(b, a, train_losses_list[1][2])[30:], label = '50%: Pretrained model with fine-tunning')\n",
    "\n",
    "axs[1].title.set_text('50%: Train Losses plot')\n",
    "axs[1].set_xlabel(\"Number of weights update\")\n",
    "axs[1].set_ylabel(\"Loss value\")\n",
    "axs[1].legend()\n",
    "\n",
    "axs[2].plot(lfilter(b, a, train_losses_list[2][0])[30:], label = '50%: No pre-trained model')\n",
    "axs[2].plot(lfilter(b, a, train_losses_list[2][1])[30:], label = '50%: Pretrained model with fine-tunning')\n",
    "axs[2].plot(lfilter(b, a, train_losses_list[2][2])[30:], label = '50%: Pretrained model with fine-tunning')\n",
    "\n",
    "axs[2].title.set_text('75%: Train Losses plot')\n",
    "axs[2].set_xlabel(\"Number of weights update\")\n",
    "axs[2].set_ylabel(\"Loss value\")\n",
    "axs[2].legend()\n",
    "\n",
    "plt.show()"
   ]
  },
  {
   "cell_type": "markdown",
   "metadata": {},
   "source": [
    "### Answer: portion of documents \n",
    "\n",
    "For all portions, the best results were for Averaging and Petrained Averaging with fine tunning models. \n",
    "\n",
    "For a small number of documents (i.e. 25%), the no pre-training model do not have good results in terms of accuracy as it has for a big ammount of documents (i.e. 75%). In contrast, the pre-trained fine-tunning model got good results in any case, but always reaching better accuracies the bigger the quantity of date.\n",
    "\n",
    "By the graphs we can see that the Pretrained fine-tunning model is slightly better than the no pre-trained model. \n",
    "\n",
    "This is explained by the fact that the pretrained model has no random weights and can be optimized even with a few ammount of data while the no pre-trained need more data to reach the same optimization. "
   ]
  },
  {
   "cell_type": "markdown",
   "metadata": {},
   "source": [
    "### Changing Minimum Frequency"
   ]
  },
  {
   "cell_type": "code",
   "execution_count": 89,
   "metadata": {},
   "outputs": [
    {
     "name": "stdout",
     "output_type": "stream",
     "text": [
      "25000 documents\n",
      "Minimum frequency: 1\n",
      "Averaging Model\n",
      "Beginning training...\n",
      "Epoch 1 : Validation loss = 0.5183441761136055; Validation acc = 76.12\n",
      "Epoch 2 : Validation loss = 0.386818482875824; Validation acc = 83.68\n",
      "Epoch 3 : Validation loss = 0.3522468388080597; Validation acc = 84.68\n",
      "Epoch 4 : Validation loss = 0.3431191892921925; Validation acc = 84.92\n",
      "Epoch 5 : Validation loss = 0.34728633865714076; Validation acc = 85.12\n",
      "Early stopping.\n",
      "Epoch 5 : Test loss = 0.35638050369918345; Test acc = 84.12\n",
      "Pretrained Averaging Model without fine tunning\n",
      "Beginning training...\n"
     ]
    },
    {
     "ename": "RuntimeError",
     "evalue": "CUDA error: device-side assert triggered",
     "output_type": "error",
     "traceback": [
      "\u001b[0;31m---------------------------------------------------------------------------\u001b[0m",
      "\u001b[0;31mRuntimeError\u001b[0m                              Traceback (most recent call last)",
      "\u001b[0;32m<ipython-input-89-90b0cbed35bd>\u001b[0m in \u001b[0;36m<module>\u001b[0;34m\u001b[0m\n\u001b[1;32m     33\u001b[0m     \u001b[0mcriterion\u001b[0m \u001b[0;34m=\u001b[0m \u001b[0mnn\u001b[0m\u001b[0;34m.\u001b[0m\u001b[0mBCEWithLogitsLoss\u001b[0m\u001b[0;34m(\u001b[0m\u001b[0;34m)\u001b[0m\u001b[0;34m\u001b[0m\u001b[0;34m\u001b[0m\u001b[0m\n\u001b[1;32m     34\u001b[0m \u001b[0;34m\u001b[0m\u001b[0m\n\u001b[0;32m---> 35\u001b[0;31m     \u001b[0mtrain_losses_PAM\u001b[0m \u001b[0;34m=\u001b[0m \u001b[0mexperiment\u001b[0m\u001b[0;34m(\u001b[0m\u001b[0mmodel\u001b[0m\u001b[0;34m,\u001b[0m \u001b[0mopt\u001b[0m\u001b[0;34m,\u001b[0m \u001b[0mcriterion\u001b[0m\u001b[0;34m,\u001b[0m \u001b[0mnum_epochs\u001b[0m \u001b[0;34m=\u001b[0m \u001b[0;36m100\u001b[0m\u001b[0;34m,\u001b[0m \u001b[0mearly_stopping\u001b[0m \u001b[0;34m=\u001b[0m \u001b[0;32mTrue\u001b[0m\u001b[0;34m)\u001b[0m\u001b[0;34m\u001b[0m\u001b[0;34m\u001b[0m\u001b[0m\n\u001b[0m\u001b[1;32m     36\u001b[0m \u001b[0;34m\u001b[0m\u001b[0m\n\u001b[1;32m     37\u001b[0m     \u001b[0mprint\u001b[0m\u001b[0;34m(\u001b[0m\u001b[0;34m\"Pretrained Averaging Model with fine tunning\"\u001b[0m\u001b[0;34m)\u001b[0m\u001b[0;34m\u001b[0m\u001b[0;34m\u001b[0m\u001b[0m\n",
      "\u001b[0;32m<ipython-input-38-1463bc6c30a9>\u001b[0m in \u001b[0;36mexperiment\u001b[0;34m(model, opt, criterion, num_epochs, early_stopping)\u001b[0m\n\u001b[1;32m      7\u001b[0m     \u001b[0;32mfor\u001b[0m \u001b[0me\u001b[0m \u001b[0;32min\u001b[0m \u001b[0mrange\u001b[0m\u001b[0;34m(\u001b[0m\u001b[0mnum_epochs\u001b[0m\u001b[0;34m)\u001b[0m\u001b[0;34m:\u001b[0m\u001b[0;34m\u001b[0m\u001b[0;34m\u001b[0m\u001b[0m\n\u001b[1;32m      8\u001b[0m         \u001b[0;31m#print(\"Epoch \" + str(e+1) + \":\")\u001b[0m\u001b[0;34m\u001b[0m\u001b[0;34m\u001b[0m\u001b[0;34m\u001b[0m\u001b[0m\n\u001b[0;32m----> 9\u001b[0;31m         \u001b[0mtrain_losses\u001b[0m \u001b[0;34m+=\u001b[0m \u001b[0mtrain_epoch\u001b[0m\u001b[0;34m(\u001b[0m\u001b[0mmodel\u001b[0m\u001b[0;34m,\u001b[0m \u001b[0mopt\u001b[0m\u001b[0;34m,\u001b[0m \u001b[0mcriterion\u001b[0m\u001b[0;34m,\u001b[0m \u001b[0mtraining_dataloader\u001b[0m\u001b[0;34m)\u001b[0m\u001b[0;34m\u001b[0m\u001b[0;34m\u001b[0m\u001b[0m\n\u001b[0m\u001b[1;32m     10\u001b[0m         \u001b[0mvalid_loss\u001b[0m\u001b[0;34m,\u001b[0m \u001b[0mvalid_acc\u001b[0m \u001b[0;34m=\u001b[0m \u001b[0meval_model\u001b[0m\u001b[0;34m(\u001b[0m\u001b[0mmodel\u001b[0m\u001b[0;34m,\u001b[0m \u001b[0mcriterion\u001b[0m\u001b[0;34m,\u001b[0m \u001b[0mvalid_dataloader\u001b[0m\u001b[0;34m)\u001b[0m\u001b[0;34m\u001b[0m\u001b[0;34m\u001b[0m\u001b[0m\n\u001b[1;32m     11\u001b[0m         \u001b[0mprint\u001b[0m\u001b[0;34m(\u001b[0m\u001b[0;34m\"Epoch \"\u001b[0m \u001b[0;34m+\u001b[0m \u001b[0mstr\u001b[0m\u001b[0;34m(\u001b[0m\u001b[0me\u001b[0m\u001b[0;34m+\u001b[0m\u001b[0;36m1\u001b[0m\u001b[0;34m)\u001b[0m \u001b[0;34m+\u001b[0m \u001b[0;34m\" : Validation loss = \"\u001b[0m \u001b[0;34m+\u001b[0m \u001b[0mstr\u001b[0m\u001b[0;34m(\u001b[0m\u001b[0mvalid_loss\u001b[0m\u001b[0;34m)\u001b[0m \u001b[0;34m+\u001b[0m \u001b[0;34m\"; Validation acc = \"\u001b[0m \u001b[0;34m+\u001b[0m \u001b[0mstr\u001b[0m\u001b[0;34m(\u001b[0m\u001b[0mvalid_acc\u001b[0m\u001b[0;34m)\u001b[0m\u001b[0;34m)\u001b[0m\u001b[0;34m\u001b[0m\u001b[0;34m\u001b[0m\u001b[0m\n",
      "\u001b[0;32m<ipython-input-36-655bbdada84a>\u001b[0m in \u001b[0;36mtrain_epoch\u001b[0;34m(model, opt, criterion, dataloader)\u001b[0m\n\u001b[1;32m     15\u001b[0m         \u001b[0;31m# (4) Update weights with the optimizer\u001b[0m\u001b[0;34m\u001b[0m\u001b[0;34m\u001b[0m\u001b[0;34m\u001b[0m\u001b[0m\n\u001b[1;32m     16\u001b[0m         \u001b[0mopt\u001b[0m\u001b[0;34m.\u001b[0m\u001b[0mstep\u001b[0m\u001b[0;34m(\u001b[0m\u001b[0;34m)\u001b[0m\u001b[0;34m\u001b[0m\u001b[0;34m\u001b[0m\u001b[0m\n\u001b[0;32m---> 17\u001b[0;31m         \u001b[0mlosses\u001b[0m\u001b[0;34m.\u001b[0m\u001b[0mappend\u001b[0m\u001b[0;34m(\u001b[0m\u001b[0mloss\u001b[0m\u001b[0;34m.\u001b[0m\u001b[0mitem\u001b[0m\u001b[0;34m(\u001b[0m\u001b[0;34m)\u001b[0m\u001b[0;34m)\u001b[0m\u001b[0;34m\u001b[0m\u001b[0;34m\u001b[0m\u001b[0m\n\u001b[0m\u001b[1;32m     18\u001b[0m         \u001b[0;31m# Count the number of correct predictions in the batch - here, you'll need to use the sigmoid\u001b[0m\u001b[0;34m\u001b[0m\u001b[0;34m\u001b[0m\u001b[0;34m\u001b[0m\u001b[0m\n\u001b[1;32m     19\u001b[0m         \u001b[0mnum_corrects\u001b[0m \u001b[0;34m=\u001b[0m \u001b[0;34m(\u001b[0m\u001b[0mpositive\u001b[0m\u001b[0;34m(\u001b[0m\u001b[0mpred\u001b[0m\u001b[0;34m)\u001b[0m \u001b[0;34m&\u001b[0m \u001b[0my\u001b[0m\u001b[0;34m.\u001b[0m\u001b[0mbool\u001b[0m\u001b[0;34m(\u001b[0m\u001b[0;34m)\u001b[0m\u001b[0;34m)\u001b[0m\u001b[0;34m.\u001b[0m\u001b[0msum\u001b[0m\u001b[0;34m(\u001b[0m\u001b[0;34m)\u001b[0m \u001b[0;34m+\u001b[0m \u001b[0;34m(\u001b[0m\u001b[0;34m~\u001b[0m\u001b[0mpositive\u001b[0m\u001b[0;34m(\u001b[0m\u001b[0mpred\u001b[0m\u001b[0;34m)\u001b[0m \u001b[0;34m&\u001b[0m \u001b[0;34m~\u001b[0m\u001b[0my\u001b[0m\u001b[0;34m.\u001b[0m\u001b[0mbool\u001b[0m\u001b[0;34m(\u001b[0m\u001b[0;34m)\u001b[0m\u001b[0;34m)\u001b[0m\u001b[0;34m.\u001b[0m\u001b[0msum\u001b[0m\u001b[0;34m(\u001b[0m\u001b[0;34m)\u001b[0m\u001b[0;34m\u001b[0m\u001b[0;34m\u001b[0m\u001b[0m\n",
      "\u001b[0;31mRuntimeError\u001b[0m: CUDA error: device-side assert triggered"
     ]
    }
   ],
   "source": [
    "filenames = filenames_neg + filenames_pos\n",
    "categories = np.ones(len(filenames), dtype=np.int)\n",
    "categories[:len(filenames_neg)] = 0.\n",
    "\n",
    "print(\"%d documents\" % len(filenames))\n",
    "\n",
    "(train_f, train_c), (valid_f, valid_c), (test_f, test_c) = get_splits(filenames, categories, splits)\n",
    "\n",
    "\n",
    "for freq in [1, 10]:\n",
    "    print(\"Minimum frequency = \" + str(freq))\n",
    "    \n",
    "    training_dataset = TextClassificationDataset(train_f, train_c, min_freq = freq)\n",
    "    training_word2idx, training_idx2word = training_dataset.get_vocab()\n",
    "\n",
    "    valid_dataset = TextClassificationDataset(valid_f, valid_c, (training_word2idx, training_idx2word))\n",
    "    test_dataset = TextClassificationDataset(test_f, test_c, (training_word2idx, training_idx2word))\n",
    "\n",
    "    training_dataloader = DataLoader(training_dataset, batch_size = 200, shuffle=True)\n",
    "    valid_dataloader = DataLoader(valid_dataset, batch_size = 25)\n",
    "    test_dataloader = DataLoader(test_dataset, batch_size = 25)\n",
    "    \n",
    "    print(\"Averaging Model\")\n",
    "    model = AveragingModel(300, len(training_word2idx))\n",
    "    opt = optim.Adam(model.parameters(), lr=0.0025, betas=(0.9, 0.999))\n",
    "    criterion = nn.BCEWithLogitsLoss()\n",
    "    \n",
    "    train_losses_AM = experiment(model, opt, criterion)\n",
    "    \n",
    "    print(\"Pretrained Averaging Model without fine tunning\")\n",
    "    model = PretrainedAveragingModel(GloveEmbeddings.shape[1], freeze = True)\n",
    "    opt = optim.Adam(model.parameters(), lr=0.0025, betas=(0.9, 0.999))\n",
    "    criterion = nn.BCEWithLogitsLoss()\n",
    "\n",
    "    train_losses_PAM = experiment(model, opt, criterion, num_epochs = 100, early_stopping = True)\n",
    "    \n",
    "    print(\"Pretrained Averaging Model with fine tunning\")\n",
    "    model = PretrainedAveragingModel(GloveEmbeddings.shape[1], freeze = False)\n",
    "    opt = optim.Adam(model.parameters(), lr=0.0025, betas=(0.9, 0.999))\n",
    "    criterion = nn.BCEWithLogitsLoss()\n",
    "\n",
    "    train_losses_PAM_tuned = experiment(model, opt, criterion, num_epochs = 100, early_stopping = True)\n",
    "    \n",
    "    print(\"\\n\")\n"
   ]
  },
  {
   "cell_type": "markdown",
   "metadata": {},
   "source": [
    "### LSTM Cells in pytorch"
   ]
  },
  {
   "cell_type": "code",
   "execution_count": null,
   "metadata": {},
   "outputs": [],
   "source": [
    "# Create a toy example of LSTM: \n",
    "lstm = nn.LSTM(3, 3)  # Input dim is 3, output dim is 3\n",
    "inputs = [torch.randn(1, 3) for _ in range(5)]  # make a sequence of length 5\n",
    "\n",
    "# LSTMs expect inputs having 3 dimensions:\n",
    "# - The first dimension is the temporal dimension, along which we (in our case) have the different words\n",
    "# - The second dimension is the batch dimension, along which we stack the independant batches\n",
    "# - The third dimension is the feature dimension, along which are the features of the vector representing the words\n",
    "\n",
    "# In our toy case, we have inputs and outputs containing 3 features (third dimension !)\n",
    "# We created a sequence of 5 different inputs (first dimension !)\n",
    "# We don't use batch (the second dimension will have one lement)\n",
    "\n",
    "# We need an initial hidden state, of the right sizes for dimension 2/3, but with only one temporal element:\n",
    "# Here, it is:\n",
    "hidden = (torch.randn(1, 1, 3),\n",
    "          torch.randn(1, 1, 3))\n",
    "# Why do we create a tuple of two tensors ? Because we use LSTMs: remember that they use two sets of weights,\n",
    "# and two hidden states (Hidden state, and Cell state).\n",
    "# If you don't remember, read: https://colah.github.io/posts/2015-08-Understanding-LSTMs/\n",
    "# If we used a classic RNN, we would simply have:\n",
    "# hidden = torch.randn(1, 1, 3)\n",
    "\n",
    "# The naive way of applying a lstm to inputs is to apply it one step at a time, and loop through the sequence\n",
    "for i in inputs:\n",
    "    # After each step, hidden contains the hidden states (remember, it's a tuple of two states).\n",
    "    out, hidden = lstm(i.view(1, 1, -1), hidden)\n",
    "    \n",
    "# Alternatively, we can do the entire sequence all at once.\n",
    "# The first value returned by LSTM is all of the Hidden states throughout the sequence.\n",
    "# The second is just the most recent Hidden state and Cell state (you can compare the values)\n",
    "# The reason for this is that:\n",
    "# \"out\" will give you access to all hidden states in the sequence, for each temporal step\n",
    "# \"hidden\" will allow you to continue the sequence and backpropagate later, with another sequence\n",
    "inputs = torch.cat(inputs).view(len(inputs), 1, -1)\n",
    "hidden = (torch.randn(1, 1, 3), torch.randn(1, 1, 3))  # Re-initialize\n",
    "out, hidden = lstm(inputs, hidden)\n",
    "print(out)\n",
    "print(hidden)"
   ]
  },
  {
   "cell_type": "markdown",
   "metadata": {},
   "source": [
    "### Creating our own LSTM Model\n",
    "\n",
    "We'll implement now a LSTM model, taking the same inputs and also outputing a score for the sentence."
   ]
  },
  {
   "cell_type": "code",
   "execution_count": 61,
   "metadata": {},
   "outputs": [],
   "source": [
    "class LSTMModel(nn.Module):\n",
    "    def __init__(self, embedding_dim, hidden_dim, vocabulary_size=None, embeddings=None, fine_tuning=False):\n",
    "        super().__init__()\n",
    "\n",
    "        if embeddings is not None:\n",
    "            embeddings = torch.from_numpy(embeddings).float()\n",
    "            self.embeddings = nn.Embedding.from_pretrained(embeddings, freeze=not fine_tuning, padding_idx=0)\n",
    "        else:\n",
    "            self.embeddings = nn.Embedding(vocabulary_size + 1, embedding_dim, padding_idx=0)\n",
    "        \n",
    "        self.hidden_dim = hidden_dim\n",
    "        self.lstm = nn.LSTM(embedding_dim, hidden_dim, batch_first=True)\n",
    "\n",
    "        self.linear = nn.Linear(hidden_dim, 1)\n",
    "        \n",
    "    def forward(self, inputs):\n",
    "        x = self.embeddings(inputs)\n",
    "\n",
    "        hidden = (torch.randn(1, x.shape[0], self.hidden_dim), \n",
    "                    torch.randn(1, x.shape[0], self.hidden_dim))\n",
    "        _, hidden = self.lstm(x, hidden)\n",
    "        \n",
    "        o = self.linear(hidden[0]).squeeze()\n",
    "        return o"
   ]
  },
  {
   "cell_type": "code",
   "execution_count": 70,
   "metadata": {},
   "outputs": [
    {
     "name": "stdout",
     "output_type": "stream",
     "text": [
      "Beginning training...\n",
      "Epoch 1:\n",
      "Batch 0 : training loss = 0.6894772052764893; training acc = 49.0\n",
      "Batch 20 : training loss = 0.7018679976463318; training acc = 46.5\n",
      "Batch 40 : training loss = 0.6882216930389404; training acc = 52.5\n",
      "Batch 60 : training loss = 0.6844560503959656; training acc = 61.0\n",
      "Batch 80 : training loss = 0.6705551743507385; training acc = 59.5\n",
      "Epoch 1 : Validation loss = 0.6945682024955749; Validation acc = 50.84\n",
      "Epoch 2:\n",
      "Batch 0 : training loss = 0.6909931302070618; training acc = 51.5\n",
      "Batch 20 : training loss = 0.6793649792671204; training acc = 54.5\n",
      "Batch 40 : training loss = 0.6580821871757507; training acc = 64.0\n",
      "Batch 60 : training loss = 0.6406686902046204; training acc = 67.5\n",
      "Batch 80 : training loss = 0.5603985786437988; training acc = 72.5\n",
      "Epoch 2 : Validation loss = 0.6621709108352661; Validation acc = 62.44\n",
      "Epoch 3:\n",
      "Batch 0 : training loss = 0.5880193114280701; training acc = 72.0\n",
      "Batch 20 : training loss = 0.5219895839691162; training acc = 78.5\n",
      "Batch 40 : training loss = 0.593853235244751; training acc = 67.0\n",
      "Batch 60 : training loss = 0.5927457213401794; training acc = 72.0\n",
      "Batch 80 : training loss = 0.599529504776001; training acc = 68.5\n",
      "Epoch 3 : Validation loss = 0.6485530754923821; Validation acc = 62.8\n",
      "Epoch 4:\n",
      "Batch 0 : training loss = 0.5799249410629272; training acc = 72.5\n",
      "Batch 20 : training loss = 0.47792813181877136; training acc = 78.5\n",
      "Batch 40 : training loss = 0.49517151713371277; training acc = 78.5\n",
      "Batch 60 : training loss = 0.41898155212402344; training acc = 83.5\n",
      "Batch 80 : training loss = 0.3876153230667114; training acc = 84.5\n",
      "Epoch 4 : Validation loss = 0.5230434165894985; Validation acc = 77.04\n",
      "Epoch 5:\n",
      "Batch 0 : training loss = 0.3521633446216583; training acc = 85.5\n",
      "Batch 20 : training loss = 0.30465221405029297; training acc = 88.5\n",
      "Batch 40 : training loss = 0.26952430605888367; training acc = 91.0\n",
      "Batch 60 : training loss = 0.3505006730556488; training acc = 86.0\n",
      "Batch 80 : training loss = 0.23182912170886993; training acc = 92.0\n",
      "Epoch 5 : Validation loss = 0.5356210744380951; Validation acc = 77.84\n",
      "Early stopping.\n",
      "Epoch 5 : Test loss = 0.5264682231843472; Test acc = 77.2\n"
     ]
    }
   ],
   "source": [
    "model = LSTMModel(300, 100, len(training_word2idx))\n",
    "opt = optim.Adam(model.parameters(), lr=0.0025, betas=(0.9, 0.999))\n",
    "criterion = nn.BCEWithLogitsLoss()\n",
    "\n",
    "train_losses = experiment(model, opt, criterion)"
   ]
  },
  {
   "cell_type": "markdown",
   "metadata": {},
   "source": [
    "## LSTMModel, GloVe, fine_tuning = False"
   ]
  },
  {
   "cell_type": "code",
   "execution_count": 63,
   "metadata": {},
   "outputs": [
    {
     "name": "stdout",
     "output_type": "stream",
     "text": [
      "Beginning training...\n",
      "Epoch 1:\n",
      "Batch 0 : training loss = 0.6927874088287354; training acc = 49.5\n",
      "Batch 20 : training loss = 0.6715987920761108; training acc = 59.0\n",
      "Batch 40 : training loss = 0.6601660251617432; training acc = 58.0\n",
      "Batch 60 : training loss = 0.6381006836891174; training acc = 65.0\n",
      "Batch 80 : training loss = 0.6119452714920044; training acc = 68.0\n",
      "Epoch 1 : Validation loss = 0.6254603326320648; Validation acc = 65.88\n",
      "Epoch 2:\n",
      "Batch 0 : training loss = 0.5665921568870544; training acc = 74.0\n",
      "Batch 20 : training loss = 0.6167987585067749; training acc = 69.0\n",
      "Batch 40 : training loss = 0.6401110291481018; training acc = 66.0\n",
      "Batch 60 : training loss = 0.5780888199806213; training acc = 70.5\n",
      "Batch 80 : training loss = 0.613084614276886; training acc = 67.5\n",
      "Epoch 2 : Validation loss = 0.5605209761857987; Validation acc = 73.72\n",
      "Epoch 3:\n",
      "Batch 0 : training loss = 0.6134870052337646; training acc = 69.5\n",
      "Batch 20 : training loss = 0.49684712290763855; training acc = 80.0\n",
      "Batch 40 : training loss = 0.5234181880950928; training acc = 78.0\n",
      "Batch 60 : training loss = 0.7291039228439331; training acc = 53.0\n",
      "Batch 80 : training loss = 0.6742477416992188; training acc = 52.0\n",
      "Epoch 3 : Validation loss = 0.6159196275472641; Validation acc = 68.0\n",
      "Early stopping.\n",
      "Epoch 3 : Test loss = 0.6100652015209198; Test acc = 68.52\n"
     ]
    }
   ],
   "source": [
    "model = LSTMModel(300, 120,embeddings=GloveEmbeddings)\n",
    "opt = optim.Adam(model.parameters(), lr=0.0025, betas=(0.9, 0.999))\n",
    "criterion = nn.BCEWithLogitsLoss()\n",
    "\n",
    "train_losses = experiment(model, opt, criterion)"
   ]
  },
  {
   "cell_type": "markdown",
   "metadata": {},
   "source": [
    "## LSTMModel, GloVe, fine_tuning = True"
   ]
  },
  {
   "cell_type": "code",
   "execution_count": 65,
   "metadata": {},
   "outputs": [
    {
     "name": "stdout",
     "output_type": "stream",
     "text": [
      "Beginning training...\n",
      "Epoch 1:\n",
      "Batch 0 : training loss = 0.6924670934677124; training acc = 51.5\n",
      "Batch 20 : training loss = 0.6587226986885071; training acc = 58.5\n",
      "Batch 40 : training loss = 0.6728513836860657; training acc = 53.5\n",
      "Batch 60 : training loss = 0.5237699151039124; training acc = 80.5\n",
      "Batch 80 : training loss = 0.7317721843719482; training acc = 49.5\n",
      "Epoch 1 : Validation loss = 0.6879258519411087; Validation acc = 54.68\n",
      "Epoch 2:\n",
      "Batch 0 : training loss = 0.6805987358093262; training acc = 57.5\n",
      "Batch 20 : training loss = 0.6679937839508057; training acc = 61.0\n",
      "Batch 40 : training loss = 0.6685945987701416; training acc = 56.5\n",
      "Batch 60 : training loss = 0.6336977481842041; training acc = 65.0\n",
      "Batch 80 : training loss = 0.5724782943725586; training acc = 73.5\n",
      "Epoch 2 : Validation loss = 0.5487313571572304; Validation acc = 74.32\n",
      "Epoch 3:\n",
      "Batch 0 : training loss = 0.45959150791168213; training acc = 81.5\n",
      "Batch 20 : training loss = 0.39614516496658325; training acc = 86.0\n",
      "Batch 40 : training loss = 0.47055867314338684; training acc = 80.5\n",
      "Batch 60 : training loss = 0.3894577920436859; training acc = 84.5\n",
      "Batch 80 : training loss = 0.4186420440673828; training acc = 82.5\n",
      "Epoch 3 : Validation loss = 0.5324852630496025; Validation acc = 73.44\n",
      "Epoch 4:\n",
      "Batch 0 : training loss = 0.41879889369010925; training acc = 79.0\n",
      "Batch 20 : training loss = 0.30038759112358093; training acc = 87.0\n",
      "Batch 40 : training loss = 0.23907047510147095; training acc = 90.5\n",
      "Batch 60 : training loss = 0.28565871715545654; training acc = 89.0\n",
      "Batch 80 : training loss = 0.23525583744049072; training acc = 90.0\n",
      "Epoch 4 : Validation loss = 0.44999418295919896; Validation acc = 81.16\n",
      "Epoch 5:\n",
      "Batch 0 : training loss = 0.16268214583396912; training acc = 94.5\n",
      "Batch 20 : training loss = 0.14457029104232788; training acc = 96.0\n",
      "Batch 40 : training loss = 0.14482660591602325; training acc = 94.5\n",
      "Batch 60 : training loss = 0.19531719386577606; training acc = 92.5\n",
      "Batch 80 : training loss = 0.1885625720024109; training acc = 93.0\n",
      "Epoch 5 : Validation loss = 0.5489862408116459; Validation acc = 81.12\n",
      "Early stopping.\n",
      "Epoch 5 : Test loss = 0.5110956463217735; Test acc = 82.04\n"
     ]
    }
   ],
   "source": [
    "model = LSTMModel(300, 120,embeddings=GloveEmbeddings, fine_tuning = True)\n",
    "opt = optim.Adam(model.parameters(), lr=0.0025, betas=(0.9, 0.999))\n",
    "criterion = nn.BCEWithLogitsLoss()\n",
    "\n",
    "train_losses = experiment(model, opt, criterion)"
   ]
  },
  {
   "cell_type": "markdown",
   "metadata": {},
   "source": [
    "### And with a CNN ? "
   ]
  },
  {
   "cell_type": "code",
   "execution_count": 55,
   "metadata": {},
   "outputs": [],
   "source": [
    "class CNNModel(nn.Module):\n",
    "    def __init__(self, embedding_dim, vocabulary_size=None, embeddings=None, window_size: int = 16, filter_multiplier=64, fine_tuning=False):\n",
    "        super().__init__()\n",
    "        if embeddings is not None:\n",
    "            embeddings = torch.from_numpy(embeddings).float()\n",
    "            self.embeddings = nn.Embedding.from_pretrained(embeddings, freeze=not fine_tuning, padding_idx=0)\n",
    "        else:\n",
    "            self.embeddings = nn.Embedding(vocabulary_size + 1, embedding_dim, padding_idx=0)\n",
    "        \n",
    "        self.conv = nn.Conv1d(embedding_dim, filter_multiplier, window_size)\n",
    "        self.maxpool = nn.MaxPool1d(2)\n",
    "\n",
    "        self.linear = nn.Linear(filter_multiplier, 1)\n",
    "\n",
    "    def forward(self, inputs):\n",
    "        x = self.embeddings(inputs)\n",
    "        \n",
    "        x = self.conv(x.view(-1, x.shape[2], x.shape[1]))\n",
    "        x = torch.relu(x)\n",
    "        x = self.maxpool(x)\n",
    "        \n",
    "        x = x.mean(dim=2)\n",
    "        o = self.linear(x).squeeze()\n",
    "        return o"
   ]
  },
  {
   "cell_type": "code",
   "execution_count": 56,
   "metadata": {},
   "outputs": [
    {
     "name": "stdout",
     "output_type": "stream",
     "text": [
      "Beginning training...\n",
      "Epoch 1:\n",
      "Batch 0 : training loss = 0.7153301239013672; training acc = 51.5\n",
      "Batch 20 : training loss = 0.6709679365158081; training acc = 60.0\n",
      "Batch 40 : training loss = 0.6442502737045288; training acc = 67.0\n",
      "Batch 60 : training loss = 0.6416398882865906; training acc = 61.5\n",
      "Batch 80 : training loss = 0.5463898777961731; training acc = 71.0\n",
      "Epoch 1 : Validation loss = 0.486507049202919; Validation acc = 77.48\n",
      "Epoch 2:\n",
      "Batch 0 : training loss = 0.3971049189567566; training acc = 86.5\n",
      "Batch 20 : training loss = 0.36516815423965454; training acc = 85.0\n",
      "Batch 40 : training loss = 0.34984511137008667; training acc = 85.0\n",
      "Batch 60 : training loss = 0.24266988039016724; training acc = 91.5\n",
      "Batch 80 : training loss = 0.3479834496974945; training acc = 86.5\n",
      "Epoch 2 : Validation loss = 0.4261503507196903; Validation acc = 81.4\n",
      "Epoch 3:\n",
      "Batch 0 : training loss = 0.13855335116386414; training acc = 96.5\n",
      "Batch 20 : training loss = 0.10200950503349304; training acc = 97.5\n",
      "Batch 40 : training loss = 0.14416205883026123; training acc = 96.0\n",
      "Batch 60 : training loss = 0.10052771866321564; training acc = 95.5\n",
      "Batch 80 : training loss = 0.11093559116125107; training acc = 97.0\n",
      "Epoch 3 : Validation loss = 0.5291992698609829; Validation acc = 80.72\n",
      "Early stopping.\n",
      "Epoch 3 : Test loss = 0.5239239124953747; Test acc = 80.72\n"
     ]
    }
   ],
   "source": [
    "model = CNNModel(300, len(training_word2idx))\n",
    "opt = optim.Adam(model.parameters(), lr=0.0025, betas=(0.9, 0.999))\n",
    "criterion = nn.BCEWithLogitsLoss()\n",
    "\n",
    "train_losses = experiment(model, opt, criterion)"
   ]
  },
  {
   "cell_type": "markdown",
   "metadata": {},
   "source": [
    "## CNN avec GloVe, fine_tuning = False"
   ]
  },
  {
   "cell_type": "code",
   "execution_count": 57,
   "metadata": {},
   "outputs": [
    {
     "name": "stdout",
     "output_type": "stream",
     "text": [
      "Beginning training...\n",
      "Epoch 1:\n",
      "Batch 0 : training loss = 0.6927903890609741; training acc = 53.0\n",
      "Batch 20 : training loss = 0.6789497137069702; training acc = 56.5\n",
      "Batch 40 : training loss = 0.6313582062721252; training acc = 69.0\n",
      "Batch 60 : training loss = 0.622214138507843; training acc = 67.5\n",
      "Batch 80 : training loss = 0.6249935030937195; training acc = 69.5\n",
      "Epoch 1 : Validation loss = 0.6098646768927574; Validation acc = 66.8\n",
      "Epoch 2:\n",
      "Batch 0 : training loss = 0.5825504064559937; training acc = 70.0\n",
      "Batch 20 : training loss = 0.5987710356712341; training acc = 65.5\n",
      "Batch 40 : training loss = 0.5338212847709656; training acc = 74.5\n",
      "Batch 60 : training loss = 0.5479891896247864; training acc = 70.5\n",
      "Batch 80 : training loss = 0.509703516960144; training acc = 77.0\n",
      "Epoch 2 : Validation loss = 0.5625702014565468; Validation acc = 71.44\n",
      "Epoch 3:\n",
      "Batch 0 : training loss = 0.45513373613357544; training acc = 81.0\n",
      "Batch 20 : training loss = 0.4815136194229126; training acc = 79.5\n",
      "Batch 40 : training loss = 0.531995415687561; training acc = 71.0\n",
      "Batch 60 : training loss = 0.4996534585952759; training acc = 73.5\n",
      "Batch 80 : training loss = 0.5081408023834229; training acc = 75.5\n",
      "Epoch 3 : Validation loss = 0.5546492737531662; Validation acc = 71.16\n",
      "Epoch 4:\n",
      "Batch 0 : training loss = 0.42462098598480225; training acc = 83.5\n",
      "Batch 20 : training loss = 0.4161755442619324; training acc = 82.0\n",
      "Batch 40 : training loss = 0.4383733868598938; training acc = 80.0\n",
      "Batch 60 : training loss = 0.416075736284256; training acc = 80.0\n",
      "Batch 80 : training loss = 0.45041924715042114; training acc = 80.0\n",
      "Epoch 4 : Validation loss = 0.5361784240603447; Validation acc = 73.16\n",
      "Epoch 5:\n",
      "Batch 0 : training loss = 0.3824162781238556; training acc = 83.5\n",
      "Batch 20 : training loss = 0.39131876826286316; training acc = 81.5\n",
      "Batch 40 : training loss = 0.383790522813797; training acc = 83.0\n",
      "Batch 60 : training loss = 0.34646713733673096; training acc = 87.0\n",
      "Batch 80 : training loss = 0.3647898733615875; training acc = 85.5\n",
      "Epoch 5 : Validation loss = 0.5500584241747856; Validation acc = 73.8\n",
      "Early stopping.\n",
      "Epoch 5 : Test loss = 0.5357781565189361; Test acc = 73.72\n"
     ]
    }
   ],
   "source": [
    "model = CNNModel(300, embeddings=GloveEmbeddings)\n",
    "opt = optim.Adam(model.parameters(), lr=0.0025, betas=(0.9, 0.999))\n",
    "criterion = nn.BCEWithLogitsLoss()\n",
    "\n",
    "train_losses = experiment(model, opt, criterion)"
   ]
  },
  {
   "cell_type": "markdown",
   "metadata": {},
   "source": [
    "## CNN avec GloVe, fine_tuning = True"
   ]
  },
  {
   "cell_type": "code",
   "execution_count": 58,
   "metadata": {},
   "outputs": [
    {
     "name": "stdout",
     "output_type": "stream",
     "text": [
      "Beginning training...\n",
      "Epoch 1:\n",
      "Batch 0 : training loss = 0.6948285698890686; training acc = 50.0\n",
      "Batch 20 : training loss = 0.6237877011299133; training acc = 68.0\n",
      "Batch 40 : training loss = 0.5258884429931641; training acc = 73.5\n",
      "Batch 60 : training loss = 0.46845459938049316; training acc = 78.5\n",
      "Batch 80 : training loss = 0.3833176791667938; training acc = 82.5\n",
      "Epoch 1 : Validation loss = 0.3743695604801178; Validation acc = 83.36\n",
      "Epoch 2:\n",
      "Batch 0 : training loss = 0.2325904816389084; training acc = 92.5\n",
      "Batch 20 : training loss = 0.21204592287540436; training acc = 92.5\n",
      "Batch 40 : training loss = 0.19911575317382812; training acc = 93.0\n",
      "Batch 60 : training loss = 0.20616450905799866; training acc = 92.0\n",
      "Batch 80 : training loss = 0.1785578727722168; training acc = 92.0\n",
      "Epoch 2 : Validation loss = 0.47681806080043315; Validation acc = 80.04\n",
      "Early stopping.\n",
      "Epoch 2 : Test loss = 0.44156622417271135; Test acc = 81.36\n"
     ]
    }
   ],
   "source": [
    "model = CNNModel(300, embeddings=GloveEmbeddings, fine_tuning = True)\n",
    "opt = optim.Adam(model.parameters(), lr=0.0025, betas=(0.9, 0.999))\n",
    "criterion = nn.BCEWithLogitsLoss()\n",
    "\n",
    "train_losses = experiment(model, opt, criterion)"
   ]
  },
  {
   "cell_type": "markdown",
   "metadata": {},
   "source": [
    "### Questions: \n",
    "- What do you see with a simple application of LSTMs and CNNs models ? \n",
    "- Similarly, make hypothesis based on your intuition and the class on how\n",
    "    - the number of documents \n",
    "    - the size of the vocabulary \n",
    "  will impact results, in the three cases (No pre-training, pre-training without fine-tuning, pretraining with fine-tuning) for the LSTM **or** CNN (and the CNN should be quite faster !) and verify your hypothesis with experiments and analyze your results !\n",
    "- Present your results in a clear and synthetic way (table, figures) and be careful to experimental methodology. Notably, you should fix hyperparameters before making comparisons (you should use maximum length of sentences and batch sizes to accelerate training - similarly, using a SGD optimizer will be faster than Adam) ! "
   ]
  }
 ],
 "metadata": {
  "kernelspec": {
   "display_name": "Python 3",
   "language": "python",
   "name": "python3"
  },
  "language_info": {
   "codemirror_mode": {
    "name": "ipython",
    "version": 3
   },
   "file_extension": ".py",
   "mimetype": "text/x-python",
   "name": "python",
   "nbconvert_exporter": "python",
   "pygments_lexer": "ipython3",
   "version": "3.7.6"
  }
 },
 "nbformat": 4,
 "nbformat_minor": 4
}
